{
 "cells": [
  {
   "cell_type": "code",
   "execution_count": 17,
   "metadata": {},
   "outputs": [],
   "source": [
    "# import of the needed packages\n",
    "import pandas as pd\n",
    "import numpy as np"
   ]
  },
  {
   "cell_type": "code",
   "execution_count": 18,
   "metadata": {},
   "outputs": [],
   "source": [
    "# loading the needed data file\n",
    "data = pd.read_csv('Data\\\\cumulated_data_bl_final_version.csv', delimiter=',')\n",
    "# adding a column for the bookmaker predictions\n",
    "data['Betting_Prediction'] = ''"
   ]
  },
  {
   "cell_type": "code",
   "execution_count": 19,
   "metadata": {},
   "outputs": [],
   "source": [
    "# list of the bookmakers with complete data for all seasons\n",
    "betting_providers = ['B365H','B365D','B365A','BWH','BWD','BWA','IWH','IWD','IWA','VCH','VCD','VCA']"
   ]
  },
  {
   "cell_type": "code",
   "execution_count": 20,
   "metadata": {},
   "outputs": [],
   "source": [
    "# function to transfer odds into probability\n",
    "def odds_to_probaility_1(odds):\n",
    "    if odds >= 0:\n",
    "        probability = odds/(odds+100) # formula for \n",
    "    else:\n",
    "        probability = odds/(odds-100)\n",
    "    return probability"
   ]
  },
  {
   "cell_type": "code",
   "execution_count": 21,
   "metadata": {},
   "outputs": [],
   "source": [
    "# function to transfer odds into probability\n",
    "def odds_to_probaility_2(odds):\n",
    "    probability = (1/odds)*100 # formula for the transfer\n",
    "    return probability"
   ]
  },
  {
   "cell_type": "code",
   "execution_count": 22,
   "metadata": {},
   "outputs": [],
   "source": [
    "# function to transfer the odds into probability for each matchday\n",
    "def calculate_probs_gameday(data):\n",
    "    x, z = 0, 0 # variables for the loops\n",
    "    prob_spieltag, prob_ges = [], [] # lists to safe the probabilities\n",
    "    while x < len(data): # loop to iterate trough the matchdays\n",
    "        while z < len(betting_providers): # loop to iterate trough the bookmakers\n",
    "            prob = odds_to_probaility_2(data[betting_providers[z]][x]) # calling the odds to probability function\n",
    "            prob_spieltag.append(prob) # adding the calculated probabilities for the matchday\n",
    "            z += 1\n",
    "        prob_ges.append(prob_spieltag) # adding the probabilities from the matchday to the list with all matchdays\n",
    "        prob_spieltag = [] # resetting the list for the matchday\n",
    "        z = 0 # resetting the counter for the bookmakers\n",
    "        x += 1\n",
    "    return prob_ges"
   ]
  },
  {
   "cell_type": "code",
   "execution_count": 23,
   "metadata": {},
   "outputs": [],
   "source": [
    "# function to calculate the average for a matchday\n",
    "def calculate_average_prob_gameday(prob_ges):\n",
    "    z, home, draw, away = 0, 0, 0, 0 # variables for the counter and the average probabilities\n",
    "    prob_spieltag_schnitt, prob_ges_schnitt = [], [] # lists to save the average probabilities\n",
    "    for x in prob_ges: # loop to iterate trough the matchdays\n",
    "        while z < len(x): # loop to iterate trhough the probabilities\n",
    "            if z % 3 == 0: # if and % 3 = 0 to get the probabilities for a home win, because the first probability from each bookmaker is for a home win\n",
    "                home = home + x[z] # summing up the bookmakers probabilities for home win\n",
    "            if z % 3 == 1: # if and % 3 = 1 to get the probabilities for a draw, because the second probability from each bookmaker is for a draw\n",
    "                draw = draw + x[\n",
    "                    z]  # summing up the bookmakers probabilities for draw\n",
    "            if z % 3 == 2: # if and % 3 = 2 to get the probabilities for a away win, because the third probability from each bookmaker is for a away win\n",
    "                away = away + x[\n",
    "                    z]  # summing up the bookmakers probabilities for away win\n",
    "            z += 1\n",
    "        z = 0\n",
    "        prob_spieltag_schnitt.append(home / 4) # calculating the average for home win and adding it to the list for the matchday\n",
    "        prob_spieltag_schnitt.append(\n",
    "            draw / 4\n",
    "        )  # calculating the average for draw and adding it to the list for the matchday\n",
    "        prob_spieltag_schnitt.append(\n",
    "            away / 4\n",
    "        )  # calculating the average for away win and adding it to the list for the matchday\n",
    "        prob_ges_schnitt.append(prob_spieltag_schnitt) # adding the average probabilities for a matchday to the list with all matchdays\n",
    "        prob_spieltag_schnitt = [] # resetting the list for the matchday\n",
    "        home, draw, away = 0, 0, 0 # resetting the values for the matchday\n",
    "    return prob_ges_schnitt\n"
   ]
  },
  {
   "cell_type": "code",
   "execution_count": 24,
   "metadata": {},
   "outputs": [],
   "source": [
    "# fucntion to get the prediction of the bookmakers\n",
    "def get_odd_prediction(prob_ges_schnitt):\n",
    "    erg_odds, erg_prob = [], [] # lists for storing the maximum probability and the predcition\n",
    "    for x in prob_ges_schnitt: # loop to iterate trough the matchdays\n",
    "        max_value = max(x) # getting the maximum probability for an match day\n",
    "        erg_prob.append(max_value) # adding the maximum probability to the list for all matchdays\n",
    "        # getting the predictions by checking the index of the maximum\n",
    "        if x.index(max_value) == 0: # if the maximum is on the first position, the prediction is home win\n",
    "            erg_odds.append('H') # adding the prediction to the list for all matchdays\n",
    "        if x.index(\n",
    "                max_value\n",
    "        ) == 1:  # if the maximum is on the second position, the prediction is draw\n",
    "            erg_odds.append(\n",
    "                'D')  # adding the prediction to the list for all matchdays\n",
    "        if x.index(\n",
    "                max_value\n",
    "        ) == 2:  # if the maximum is on the thrid position, the prediction is away win\n",
    "            erg_odds.append(\n",
    "                'A')  # adding the prediction to the list for all matchdays\n",
    "    return erg_odds, erg_prob"
   ]
  },
  {
   "cell_type": "code",
   "execution_count": 25,
   "metadata": {},
   "outputs": [],
   "source": [
    "# function to add the predcitions and their probabilities to the dataframe\n",
    "def add_odd_predcition_to_df(data, erg_odds, erg_prob):\n",
    "    data['Betting_Prediction'] = erg_odds # adding the predictions to the dataframe\n",
    "    data['Betting_Prediction_Probability'] = erg_prob # adding the probabilities from the predictions to the dataframe\n",
    "    return data"
   ]
  },
  {
   "cell_type": "code",
   "execution_count": 26,
   "metadata": {},
   "outputs": [],
   "source": [
    "def add_maximum_odds_to_df(data):\n",
    "    max_value_home, max_value_away, max_value_draw = [], [], [] # lists for saving the highest odds for an event\n",
    "    for index, rows in data.iterrows(): # loop to iterate trough the matchdays\n",
    "        max_value_home = max(rows['B365H'], rows['BWH'], rows[\"IWH\"], rows['VCH']) # adding the maximum value for home win to the list\n",
    "        max_value_away = max(rows['B365A'], rows['BWA'], rows[\"IWA\"], rows['VCA']) # adding the maximum value for away win to the list\n",
    "        max_value_draw = max(\n",
    "            rows['B365D'], rows['BWD'], rows[\"IWD\"],\n",
    "            rows['VCD'])  # adding the maximum value for draw to the list\n",
    "    data['MaxHome'] = max_value_home # adding the maximum odds for home win to the dataframe\n",
    "    data['MaxAway'] = max_value_away # adding the maximum odds for away win to the dataframe\n",
    "    data[\n",
    "        'MaxDraw'] = max_value_draw  # adding the maximum odds for draw to the dataframe\n",
    "    return data"
   ]
  },
  {
   "cell_type": "code",
   "execution_count": 27,
   "metadata": {},
   "outputs": [],
   "source": [
    "# function to reduce the dataframe to only the necessary columns\n",
    "def reduce_dataframe(data):\n",
    "    data_reduced = data[['Date', 'HomeTeam', 'AwayTeam', 'FTHG', 'FTAG', 'FTR',\n",
    "        'B365H', 'B365D', 'B365A', 'BWH', 'BWD', 'BWA', 'IWH', 'IWD', 'IWA',\n",
    "        'VCH', 'VCD', 'VCA', 'Betting_Prediction', 'Betting_Prediction_Probability', 'MaxHome',\n",
    "        'MaxAway', 'MaxDraw'\n",
    "    ]] # only selecting the necessary columns\n",
    "    return data_reduced\n"
   ]
  },
  {
   "cell_type": "code",
   "execution_count": 28,
   "metadata": {},
   "outputs": [],
   "source": [
    "# function to save the dataframe as a csv file\n",
    "def df_to_csv(data):\n",
    "    data.to_csv(\"Data\\\\dataframe_with_odd_predictions_v4.csv\")"
   ]
  },
  {
   "cell_type": "code",
   "execution_count": 29,
   "metadata": {},
   "outputs": [],
   "source": [
    "# function to get the bookmakers performance\n",
    "def evaluate_odd_performance(data):\n",
    "    z, right_prediction, false_prediction = 0, 0, 0 # variables for the counter, right and false predictions\n",
    "    while z < len(data): # loop for iterating trough the dataframe\n",
    "        if data.FTR[z] == data.Betting_Prediction[z]: # checking if the result from the match is equal to the bookmakers prediction\n",
    "            right_prediction += 1 # adding 1 if the predcition matches the result from the game\n",
    "        else:\n",
    "            false_prediction += 1 # adding 1 if the predcition doesn´t match the result from the game\n",
    "        z += 1\n",
    "    return right_prediction, false_prediction"
   ]
  },
  {
   "cell_type": "code",
   "execution_count": 30,
   "metadata": {},
   "outputs": [],
   "source": [
    "# function to show the bookmakers performance\n",
    "def show_odd_performance(data, right_prediction, false_prediction):\n",
    "    print('Right Predictions: ', right_prediction) # number of the right predictions\n",
    "    print('False Predictions: ', false_prediction) # number of the false predictions\n",
    "    print('Number of Games: ', len(data)) # numbe rof all matches\n",
    "    print('Accuracy: ', round(right_prediction/len(data)*100,2), '%') # calculation of the accuracy of the bookmakers\n"
   ]
  },
  {
   "cell_type": "code",
   "execution_count": 31,
   "metadata": {},
   "outputs": [
    {
     "name": "stdout",
     "output_type": "stream",
     "text": [
      "Right Predictions:  2366\n",
      "False Predictions:  2224\n",
      "Number of Games:  4590\n",
      "Accuracy:  51.55 % #\n"
     ]
    }
   ],
   "source": [
    "# function to run all functions with one click\n",
    "def run_all(data):\n",
    "    prob_ges = calculate_probs_gameday(data)\n",
    "    prob_ges_schnitt = calculate_average_prob_gameday(prob_ges)\n",
    "    erg_odds, erg_prob = get_odd_prediction(prob_ges_schnitt)\n",
    "    data = add_odd_predcition_to_df(data, erg_odds, erg_prob)\n",
    "    data = add_maximum_odds_to_df(data)\n",
    "    data = reduce_dataframe(data)\n",
    "    df_to_csv(data)\n",
    "    right_prediction, false_prediction = evaluate_odd_performance(data)\n",
    "    show_odd_performance(data, right_prediction, false_prediction)\n",
    "run_all(data)"
   ]
  }
 ],
 "metadata": {
  "kernelspec": {
   "display_name": "Python 3.9.6 64-bit",
   "language": "python",
   "name": "python3"
  },
  "language_info": {
   "codemirror_mode": {
    "name": "ipython",
    "version": 3
   },
   "file_extension": ".py",
   "mimetype": "text/x-python",
   "name": "python",
   "nbconvert_exporter": "python",
   "pygments_lexer": "ipython3",
   "version": "3.9.6"
  },
  "orig_nbformat": 4,
  "vscode": {
   "interpreter": {
    "hash": "4d3681dfa7bb848051958087f5c059ce61aaa4177c68ca92cc2769bacbe1c31f"
   }
  }
 },
 "nbformat": 4,
 "nbformat_minor": 2
}
