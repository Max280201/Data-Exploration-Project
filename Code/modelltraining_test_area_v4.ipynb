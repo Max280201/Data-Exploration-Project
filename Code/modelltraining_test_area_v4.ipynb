{
 "cells": [
  {
   "cell_type": "code",
   "execution_count": 143,
   "metadata": {},
   "outputs": [],
   "source": [
    "import pandas as pd\n",
    "import numpy as np\n",
    "import jinja2\n",
    "from sklearn import tree\n",
    "from sklearn.preprocessing import scale as scale\n",
    "from sklearn.model_selection import train_test_split\n",
    "from sklearn.metrics import ConfusionMatrixDisplay\n",
    "import matplotlib.pyplot as plt\n",
    "\n",
    "\n",
    "# keras specific\n",
    "from keras.models import Sequential\n",
    "from keras.layers import Dense\n",
    "from tensorflow import keras\n",
    "from keras_tuner.tuners import RandomSearch\n",
    "from tensorflow.keras.utils import to_categorical\n",
    "\n",
    "# poisson\n",
    "from scipy.stats import poisson"
   ]
  },
  {
   "cell_type": "code",
   "execution_count": null,
   "metadata": {},
   "outputs": [],
   "source": [
    "# Ensemble learning imports\n",
    "\n",
    "from numpy import mean\n",
    "from numpy import std\n",
    "from sklearn.model_selection import cross_val_score\n",
    "from sklearn.model_selection import RepeatedStratifiedKFold\n",
    "from sklearn.linear_model import LogisticRegression\n",
    "from sklearn.neighbors import KNeighborsClassifier\n",
    "from sklearn.tree import DecisionTreeClassifier\n",
    "from sklearn.svm import SVC\n",
    "from sklearn.naive_bayes import GaussianNB\n",
    "from sklearn.ensemble import StackingClassifier\n",
    "from matplotlib import pyplot\n",
    "\n",
    "from sklearn.discriminant_analysis import LinearDiscriminantAnalysis\n",
    "from sklearn.neighbors import KNeighborsClassifier\n",
    "from sklearn.naive_bayes import GaussianNB\n",
    "from sklearn.tree import DecisionTreeClassifier\n",
    "from sklearn.svm import SVC"
   ]
  },
  {
   "cell_type": "markdown",
   "metadata": {},
   "source": [
    "## Data preperation and knowledge"
   ]
  },
  {
   "cell_type": "code",
   "execution_count": 144,
   "metadata": {},
   "outputs": [],
   "source": [
    "# read the csv file\n",
    "match_data_unfiltered = pd.read_csv(\"Data\\\\preprocessed_dataframe_with_elo_mw_form_final_version.csv\")\n",
    "pd.set_option('mode.chained_assignment', None)"
   ]
  },
  {
   "cell_type": "code",
   "execution_count": 145,
   "metadata": {},
   "outputs": [],
   "source": [
    "# make FTR column to continous variable\n",
    "def convert_ftr(result: str):\n",
    "    if result == \"D\":\n",
    "        return 1\n",
    "    elif result == \"H\":\n",
    "        return 2\n",
    "    elif result == \"A\":\n",
    "        return 0\n",
    "    else: \n",
    "        return None\n",
    "match_data_unfiltered['FTR'] = match_data_unfiltered['FTR'].apply(convert_ftr)\n",
    "match_data_unfiltered = match_data_unfiltered.drop([\"Unnamed: 0\"], axis=1, errors=\"ignore\")"
   ]
  },
  {
   "cell_type": "code",
   "execution_count": 146,
   "metadata": {},
   "outputs": [
    {
     "data": {
      "text/html": [
       "<style type=\"text/css\">\n",
       "#T_29293_row0_col0, #T_29293_row0_col2, #T_29293_row0_col9, #T_29293_row0_col12, #T_29293_row0_col14, #T_29293_row0_col16, #T_29293_row0_col18, #T_29293_row0_col28, #T_29293_row0_col32, #T_29293_row0_col35, #T_29293_row0_col38, #T_29293_row0_col41, #T_29293_row0_col42, #T_29293_row0_col50, #T_29293_row0_col54, #T_29293_row0_col56, #T_29293_row1_col3, #T_29293_row1_col4, #T_29293_row1_col6, #T_29293_row1_col7, #T_29293_row1_col36, #T_29293_row2_col1, #T_29293_row2_col5, #T_29293_row2_col8, #T_29293_row2_col10, #T_29293_row2_col11, #T_29293_row2_col13, #T_29293_row2_col15, #T_29293_row2_col17, #T_29293_row2_col19, #T_29293_row2_col20, #T_29293_row2_col21, #T_29293_row2_col22, #T_29293_row2_col23, #T_29293_row2_col24, #T_29293_row2_col25, #T_29293_row2_col26, #T_29293_row2_col27, #T_29293_row2_col29, #T_29293_row2_col30, #T_29293_row2_col31, #T_29293_row2_col33, #T_29293_row2_col34, #T_29293_row2_col37, #T_29293_row2_col39, #T_29293_row2_col40, #T_29293_row2_col43, #T_29293_row2_col44, #T_29293_row2_col45, #T_29293_row2_col46, #T_29293_row2_col47, #T_29293_row2_col48, #T_29293_row2_col49, #T_29293_row2_col51, #T_29293_row2_col52, #T_29293_row2_col53, #T_29293_row2_col55, #T_29293_row2_col57, #T_29293_row2_col58 {\n",
       "  background-color: #fff7fb;\n",
       "  color: #000000;\n",
       "}\n",
       "#T_29293_row0_col1 {\n",
       "  background-color: #1077b4;\n",
       "  color: #f1f1f1;\n",
       "}\n",
       "#T_29293_row0_col3 {\n",
       "  background-color: #4295c3;\n",
       "  color: #f1f1f1;\n",
       "}\n",
       "#T_29293_row0_col4, #T_29293_row0_col8, #T_29293_row0_col10, #T_29293_row0_col19, #T_29293_row0_col20, #T_29293_row0_col21, #T_29293_row0_col22, #T_29293_row0_col23, #T_29293_row0_col24, #T_29293_row0_col25, #T_29293_row0_col34, #T_29293_row0_col40, #T_29293_row0_col43, #T_29293_row0_col44, #T_29293_row0_col45, #T_29293_row0_col46, #T_29293_row0_col47, #T_29293_row0_col48, #T_29293_row0_col49, #T_29293_row0_col51, #T_29293_row0_col52, #T_29293_row0_col53, #T_29293_row1_col1, #T_29293_row1_col5, #T_29293_row1_col11, #T_29293_row1_col13, #T_29293_row1_col15, #T_29293_row1_col17, #T_29293_row1_col26, #T_29293_row1_col27, #T_29293_row1_col29, #T_29293_row1_col30, #T_29293_row1_col31, #T_29293_row1_col33, #T_29293_row1_col37, #T_29293_row1_col39, #T_29293_row1_col55, #T_29293_row1_col57, #T_29293_row1_col58, #T_29293_row2_col0, #T_29293_row2_col2, #T_29293_row2_col3, #T_29293_row2_col6, #T_29293_row2_col7, #T_29293_row2_col9, #T_29293_row2_col12, #T_29293_row2_col14, #T_29293_row2_col16, #T_29293_row2_col18, #T_29293_row2_col28, #T_29293_row2_col32, #T_29293_row2_col35, #T_29293_row2_col36, #T_29293_row2_col38, #T_29293_row2_col41, #T_29293_row2_col42, #T_29293_row2_col50, #T_29293_row2_col54, #T_29293_row2_col56 {\n",
       "  background-color: #023858;\n",
       "  color: #f1f1f1;\n",
       "}\n",
       "#T_29293_row0_col5 {\n",
       "  background-color: #2987bc;\n",
       "  color: #f1f1f1;\n",
       "}\n",
       "#T_29293_row0_col6 {\n",
       "  background-color: #dedcec;\n",
       "  color: #000000;\n",
       "}\n",
       "#T_29293_row0_col7, #T_29293_row1_col42, #T_29293_row1_col54 {\n",
       "  background-color: #f7f0f7;\n",
       "  color: #000000;\n",
       "}\n",
       "#T_29293_row0_col11, #T_29293_row0_col13, #T_29293_row1_col21 {\n",
       "  background-color: #03446a;\n",
       "  color: #f1f1f1;\n",
       "}\n",
       "#T_29293_row0_col15, #T_29293_row0_col57, #T_29293_row1_col19, #T_29293_row1_col20 {\n",
       "  background-color: #034165;\n",
       "  color: #f1f1f1;\n",
       "}\n",
       "#T_29293_row0_col17 {\n",
       "  background-color: #045382;\n",
       "  color: #f1f1f1;\n",
       "}\n",
       "#T_29293_row0_col26 {\n",
       "  background-color: #023a5b;\n",
       "  color: #f1f1f1;\n",
       "}\n",
       "#T_29293_row0_col27 {\n",
       "  background-color: #056fae;\n",
       "  color: #f1f1f1;\n",
       "}\n",
       "#T_29293_row0_col29 {\n",
       "  background-color: #02395a;\n",
       "  color: #f1f1f1;\n",
       "}\n",
       "#T_29293_row0_col30 {\n",
       "  background-color: #034871;\n",
       "  color: #f1f1f1;\n",
       "}\n",
       "#T_29293_row0_col31 {\n",
       "  background-color: #0569a4;\n",
       "  color: #f1f1f1;\n",
       "}\n",
       "#T_29293_row0_col33 {\n",
       "  background-color: #167bb6;\n",
       "  color: #f1f1f1;\n",
       "}\n",
       "#T_29293_row0_col36 {\n",
       "  background-color: #c4cbe3;\n",
       "  color: #000000;\n",
       "}\n",
       "#T_29293_row0_col37 {\n",
       "  background-color: #1c7fb8;\n",
       "  color: #f1f1f1;\n",
       "}\n",
       "#T_29293_row0_col39 {\n",
       "  background-color: #045788;\n",
       "  color: #f1f1f1;\n",
       "}\n",
       "#T_29293_row0_col55 {\n",
       "  background-color: #045d92;\n",
       "  color: #f1f1f1;\n",
       "}\n",
       "#T_29293_row0_col58 {\n",
       "  background-color: #045e94;\n",
       "  color: #f1f1f1;\n",
       "}\n",
       "#T_29293_row1_col0 {\n",
       "  background-color: #e5e1ef;\n",
       "  color: #000000;\n",
       "}\n",
       "#T_29293_row1_col2 {\n",
       "  background-color: #c6cce3;\n",
       "  color: #000000;\n",
       "}\n",
       "#T_29293_row1_col8 {\n",
       "  background-color: #2685bb;\n",
       "  color: #f1f1f1;\n",
       "}\n",
       "#T_29293_row1_col9 {\n",
       "  background-color: #dddbec;\n",
       "  color: #000000;\n",
       "}\n",
       "#T_29293_row1_col10 {\n",
       "  background-color: #0567a2;\n",
       "  color: #f1f1f1;\n",
       "}\n",
       "#T_29293_row1_col12 {\n",
       "  background-color: #eee9f3;\n",
       "  color: #000000;\n",
       "}\n",
       "#T_29293_row1_col14 {\n",
       "  background-color: #ece7f2;\n",
       "  color: #000000;\n",
       "}\n",
       "#T_29293_row1_col16 {\n",
       "  background-color: #e7e3f0;\n",
       "  color: #000000;\n",
       "}\n",
       "#T_29293_row1_col18 {\n",
       "  background-color: #e2dfee;\n",
       "  color: #000000;\n",
       "}\n",
       "#T_29293_row1_col22 {\n",
       "  background-color: #034c78;\n",
       "  color: #f1f1f1;\n",
       "}\n",
       "#T_29293_row1_col23 {\n",
       "  background-color: #03476f;\n",
       "  color: #f1f1f1;\n",
       "}\n",
       "#T_29293_row1_col24 {\n",
       "  background-color: #03466e;\n",
       "  color: #f1f1f1;\n",
       "}\n",
       "#T_29293_row1_col25, #T_29293_row1_col45, #T_29293_row1_col46, #T_29293_row1_col52 {\n",
       "  background-color: #034369;\n",
       "  color: #f1f1f1;\n",
       "}\n",
       "#T_29293_row1_col28, #T_29293_row1_col41 {\n",
       "  background-color: #dfddec;\n",
       "  color: #000000;\n",
       "}\n",
       "#T_29293_row1_col32 {\n",
       "  background-color: #d9d8ea;\n",
       "  color: #000000;\n",
       "}\n",
       "#T_29293_row1_col34 {\n",
       "  background-color: #197db7;\n",
       "  color: #f1f1f1;\n",
       "}\n",
       "#T_29293_row1_col35 {\n",
       "  background-color: #c0c9e2;\n",
       "  color: #000000;\n",
       "}\n",
       "#T_29293_row1_col38 {\n",
       "  background-color: #d7d6e9;\n",
       "  color: #000000;\n",
       "}\n",
       "#T_29293_row1_col40 {\n",
       "  background-color: #023e62;\n",
       "  color: #f1f1f1;\n",
       "}\n",
       "#T_29293_row1_col43, #T_29293_row1_col49 {\n",
       "  background-color: #023b5d;\n",
       "  color: #f1f1f1;\n",
       "}\n",
       "#T_29293_row1_col44 {\n",
       "  background-color: #03456c;\n",
       "  color: #f1f1f1;\n",
       "}\n",
       "#T_29293_row1_col47 {\n",
       "  background-color: #023f64;\n",
       "  color: #f1f1f1;\n",
       "}\n",
       "#T_29293_row1_col48 {\n",
       "  background-color: #034a74;\n",
       "  color: #f1f1f1;\n",
       "}\n",
       "#T_29293_row1_col50 {\n",
       "  background-color: #04588a;\n",
       "  color: #f1f1f1;\n",
       "}\n",
       "#T_29293_row1_col51, #T_29293_row2_col4 {\n",
       "  background-color: #bfc9e1;\n",
       "  color: #000000;\n",
       "}\n",
       "#T_29293_row1_col53 {\n",
       "  background-color: #04649e;\n",
       "  color: #f1f1f1;\n",
       "}\n",
       "#T_29293_row1_col56 {\n",
       "  background-color: #f5eef6;\n",
       "  color: #000000;\n",
       "}\n",
       "</style>\n",
       "<table id=\"T_29293\">\n",
       "  <thead>\n",
       "    <tr>\n",
       "      <th class=\"blank level0\" >&nbsp;</th>\n",
       "      <th id=\"T_29293_level0_col0\" class=\"col_heading level0 col0\" >AS</th>\n",
       "      <th id=\"T_29293_level0_col1\" class=\"col_heading level0 col1\" >HST</th>\n",
       "      <th id=\"T_29293_level0_col2\" class=\"col_heading level0 col2\" >AST</th>\n",
       "      <th id=\"T_29293_level0_col3\" class=\"col_heading level0 col3\" >HF</th>\n",
       "      <th id=\"T_29293_level0_col4\" class=\"col_heading level0 col4\" >AF</th>\n",
       "      <th id=\"T_29293_level0_col5\" class=\"col_heading level0 col5\" >HC</th>\n",
       "      <th id=\"T_29293_level0_col6\" class=\"col_heading level0 col6\" >AC</th>\n",
       "      <th id=\"T_29293_level0_col7\" class=\"col_heading level0 col7\" >HY</th>\n",
       "      <th id=\"T_29293_level0_col8\" class=\"col_heading level0 col8\" >AY</th>\n",
       "      <th id=\"T_29293_level0_col9\" class=\"col_heading level0 col9\" >HR</th>\n",
       "      <th id=\"T_29293_level0_col10\" class=\"col_heading level0 col10\" >AR</th>\n",
       "      <th id=\"T_29293_level0_col11\" class=\"col_heading level0 col11\" >PointsLast3MatchesHT</th>\n",
       "      <th id=\"T_29293_level0_col12\" class=\"col_heading level0 col12\" >PointsLast3MatchesAT</th>\n",
       "      <th id=\"T_29293_level0_col13\" class=\"col_heading level0 col13\" >PointsLast5MatchesHT</th>\n",
       "      <th id=\"T_29293_level0_col14\" class=\"col_heading level0 col14\" >PointsLast5MatchesAT</th>\n",
       "      <th id=\"T_29293_level0_col15\" class=\"col_heading level0 col15\" >PointsLast10MatchesHT</th>\n",
       "      <th id=\"T_29293_level0_col16\" class=\"col_heading level0 col16\" >PointsLast10MatchesAT</th>\n",
       "      <th id=\"T_29293_level0_col17\" class=\"col_heading level0 col17\" >PointsLastAllMatchesHT</th>\n",
       "      <th id=\"T_29293_level0_col18\" class=\"col_heading level0 col18\" >PointsLastAllMatchesAT</th>\n",
       "      <th id=\"T_29293_level0_col19\" class=\"col_heading level0 col19\" >PDiff3Matches</th>\n",
       "      <th id=\"T_29293_level0_col20\" class=\"col_heading level0 col20\" >PQuot3Matches</th>\n",
       "      <th id=\"T_29293_level0_col21\" class=\"col_heading level0 col21\" >PDiff5Matches</th>\n",
       "      <th id=\"T_29293_level0_col22\" class=\"col_heading level0 col22\" >PQuot5Matches</th>\n",
       "      <th id=\"T_29293_level0_col23\" class=\"col_heading level0 col23\" >PDiff10Matches</th>\n",
       "      <th id=\"T_29293_level0_col24\" class=\"col_heading level0 col24\" >PQuot10Matches</th>\n",
       "      <th id=\"T_29293_level0_col25\" class=\"col_heading level0 col25\" >PDiffAllMatches</th>\n",
       "      <th id=\"T_29293_level0_col26\" class=\"col_heading level0 col26\" >PQuotAllMatches</th>\n",
       "      <th id=\"T_29293_level0_col27\" class=\"col_heading level0 col27\" >MarketValueHT</th>\n",
       "      <th id=\"T_29293_level0_col28\" class=\"col_heading level0 col28\" >MarketValueAT</th>\n",
       "      <th id=\"T_29293_level0_col29\" class=\"col_heading level0 col29\" >MarketValueDiff</th>\n",
       "      <th id=\"T_29293_level0_col30\" class=\"col_heading level0 col30\" >MarketValueQuot</th>\n",
       "      <th id=\"T_29293_level0_col31\" class=\"col_heading level0 col31\" >HomeElo</th>\n",
       "      <th id=\"T_29293_level0_col32\" class=\"col_heading level0 col32\" >AwayElo</th>\n",
       "      <th id=\"T_29293_level0_col33\" class=\"col_heading level0 col33\" >HomeAttack</th>\n",
       "      <th id=\"T_29293_level0_col34\" class=\"col_heading level0 col34\" >HomeDefend</th>\n",
       "      <th id=\"T_29293_level0_col35\" class=\"col_heading level0 col35\" >AwayAttack</th>\n",
       "      <th id=\"T_29293_level0_col36\" class=\"col_heading level0 col36\" >AwayDefend</th>\n",
       "      <th id=\"T_29293_level0_col37\" class=\"col_heading level0 col37\" >HomeEloOld</th>\n",
       "      <th id=\"T_29293_level0_col38\" class=\"col_heading level0 col38\" >AwayEloOld</th>\n",
       "      <th id=\"T_29293_level0_col39\" class=\"col_heading level0 col39\" >HomeAttackOld</th>\n",
       "      <th id=\"T_29293_level0_col40\" class=\"col_heading level0 col40\" >HomeDefendOld</th>\n",
       "      <th id=\"T_29293_level0_col41\" class=\"col_heading level0 col41\" >AwayAttackOld</th>\n",
       "      <th id=\"T_29293_level0_col42\" class=\"col_heading level0 col42\" >AwayDefendOld</th>\n",
       "      <th id=\"T_29293_level0_col43\" class=\"col_heading level0 col43\" >DiffEloOld</th>\n",
       "      <th id=\"T_29293_level0_col44\" class=\"col_heading level0 col44\" >DiffAttackOld</th>\n",
       "      <th id=\"T_29293_level0_col45\" class=\"col_heading level0 col45\" >DiffDefendOld</th>\n",
       "      <th id=\"T_29293_level0_col46\" class=\"col_heading level0 col46\" >DiffElo</th>\n",
       "      <th id=\"T_29293_level0_col47\" class=\"col_heading level0 col47\" >DiffAttack</th>\n",
       "      <th id=\"T_29293_level0_col48\" class=\"col_heading level0 col48\" >DiffDefend</th>\n",
       "      <th id=\"T_29293_level0_col49\" class=\"col_heading level0 col49\" >QuotEloOld</th>\n",
       "      <th id=\"T_29293_level0_col50\" class=\"col_heading level0 col50\" >QuotAttackOld</th>\n",
       "      <th id=\"T_29293_level0_col51\" class=\"col_heading level0 col51\" >QuotDefendOld</th>\n",
       "      <th id=\"T_29293_level0_col52\" class=\"col_heading level0 col52\" >QuotElo</th>\n",
       "      <th id=\"T_29293_level0_col53\" class=\"col_heading level0 col53\" >QuotAttack</th>\n",
       "      <th id=\"T_29293_level0_col54\" class=\"col_heading level0 col54\" >QuotDefend</th>\n",
       "      <th id=\"T_29293_level0_col55\" class=\"col_heading level0 col55\" >DirectComparisonHG</th>\n",
       "      <th id=\"T_29293_level0_col56\" class=\"col_heading level0 col56\" >DirectComparisonAG</th>\n",
       "      <th id=\"T_29293_level0_col57\" class=\"col_heading level0 col57\" >DirectComparisonGoalDiff</th>\n",
       "      <th id=\"T_29293_level0_col58\" class=\"col_heading level0 col58\" >DirectComparisonGoalQuot</th>\n",
       "    </tr>\n",
       "  </thead>\n",
       "  <tbody>\n",
       "    <tr>\n",
       "      <th id=\"T_29293_level0_row0\" class=\"row_heading level0 row0\" >FTR</th>\n",
       "      <td id=\"T_29293_row0_col0\" class=\"data row0 col0\" >-0.207768</td>\n",
       "      <td id=\"T_29293_row0_col1\" class=\"data row0 col1\" >0.386246</td>\n",
       "      <td id=\"T_29293_row0_col2\" class=\"data row0 col2\" >-0.400161</td>\n",
       "      <td id=\"T_29293_row0_col3\" class=\"data row0 col3\" >-0.048700</td>\n",
       "      <td id=\"T_29293_row0_col4\" class=\"data row0 col4\" >0.004190</td>\n",
       "      <td id=\"T_29293_row0_col5\" class=\"data row0 col5\" >0.008473</td>\n",
       "      <td id=\"T_29293_row0_col6\" class=\"data row0 col6\" >-0.049340</td>\n",
       "      <td id=\"T_29293_row0_col7\" class=\"data row0 col7\" >-0.121265</td>\n",
       "      <td id=\"T_29293_row0_col8\" class=\"data row0 col8\" >0.052348</td>\n",
       "      <td id=\"T_29293_row0_col9\" class=\"data row0 col9\" >-0.136436</td>\n",
       "      <td id=\"T_29293_row0_col10\" class=\"data row0 col10\" >0.089823</td>\n",
       "      <td id=\"T_29293_row0_col11\" class=\"data row0 col11\" >0.145681</td>\n",
       "      <td id=\"T_29293_row0_col12\" class=\"data row0 col12\" >-0.106607</td>\n",
       "      <td id=\"T_29293_row0_col13\" class=\"data row0 col13\" >0.175385</td>\n",
       "      <td id=\"T_29293_row0_col14\" class=\"data row0 col14\" >-0.140737</td>\n",
       "      <td id=\"T_29293_row0_col15\" class=\"data row0 col15\" >0.218937</td>\n",
       "      <td id=\"T_29293_row0_col16\" class=\"data row0 col16\" >-0.171125</td>\n",
       "      <td id=\"T_29293_row0_col17\" class=\"data row0 col17\" >0.113177</td>\n",
       "      <td id=\"T_29293_row0_col18\" class=\"data row0 col18\" >-0.098790</td>\n",
       "      <td id=\"T_29293_row0_col19\" class=\"data row0 col19\" >0.179660</td>\n",
       "      <td id=\"T_29293_row0_col20\" class=\"data row0 col20\" >0.128351</td>\n",
       "      <td id=\"T_29293_row0_col21\" class=\"data row0 col21\" >0.226256</td>\n",
       "      <td id=\"T_29293_row0_col22\" class=\"data row0 col22\" >0.149288</td>\n",
       "      <td id=\"T_29293_row0_col23\" class=\"data row0 col23\" >0.282227</td>\n",
       "      <td id=\"T_29293_row0_col24\" class=\"data row0 col24\" >0.194064</td>\n",
       "      <td id=\"T_29293_row0_col25\" class=\"data row0 col25\" >0.275055</td>\n",
       "      <td id=\"T_29293_row0_col26\" class=\"data row0 col26\" >0.173635</td>\n",
       "      <td id=\"T_29293_row0_col27\" class=\"data row0 col27\" >0.188790</td>\n",
       "      <td id=\"T_29293_row0_col28\" class=\"data row0 col28\" >-0.228257</td>\n",
       "      <td id=\"T_29293_row0_col29\" class=\"data row0 col29\" >0.311574</td>\n",
       "      <td id=\"T_29293_row0_col30\" class=\"data row0 col30\" >0.233787</td>\n",
       "      <td id=\"T_29293_row0_col31\" class=\"data row0 col31\" >0.140194</td>\n",
       "      <td id=\"T_29293_row0_col32\" class=\"data row0 col32\" >-0.163084</td>\n",
       "      <td id=\"T_29293_row0_col33\" class=\"data row0 col33\" >0.541096</td>\n",
       "      <td id=\"T_29293_row0_col34\" class=\"data row0 col34\" >0.533376</td>\n",
       "      <td id=\"T_29293_row0_col35\" class=\"data row0 col35\" >-0.495043</td>\n",
       "      <td id=\"T_29293_row0_col36\" class=\"data row0 col36\" >-0.509603</td>\n",
       "      <td id=\"T_29293_row0_col37\" class=\"data row0 col37\" >0.103194</td>\n",
       "      <td id=\"T_29293_row0_col38\" class=\"data row0 col38\" >-0.126161</td>\n",
       "      <td id=\"T_29293_row0_col39\" class=\"data row0 col39\" >0.178605</td>\n",
       "      <td id=\"T_29293_row0_col40\" class=\"data row0 col40\" >0.106706</td>\n",
       "      <td id=\"T_29293_row0_col41\" class=\"data row0 col41\" >-0.153297</td>\n",
       "      <td id=\"T_29293_row0_col42\" class=\"data row0 col42\" >-0.095934</td>\n",
       "      <td id=\"T_29293_row0_col43\" class=\"data row0 col43\" >0.272295</td>\n",
       "      <td id=\"T_29293_row0_col44\" class=\"data row0 col44\" >0.234319</td>\n",
       "      <td id=\"T_29293_row0_col45\" class=\"data row0 col45\" >0.144148</td>\n",
       "      <td id=\"T_29293_row0_col46\" class=\"data row0 col46\" >0.365008</td>\n",
       "      <td id=\"T_29293_row0_col47\" class=\"data row0 col47\" >0.701809</td>\n",
       "      <td id=\"T_29293_row0_col48\" class=\"data row0 col48\" >0.702978</td>\n",
       "      <td id=\"T_29293_row0_col49\" class=\"data row0 col49\" >0.256915</td>\n",
       "      <td id=\"T_29293_row0_col50\" class=\"data row0 col50\" >-0.019285</td>\n",
       "      <td id=\"T_29293_row0_col51\" class=\"data row0 col51\" >0.003690</td>\n",
       "      <td id=\"T_29293_row0_col52\" class=\"data row0 col52\" >0.350101</td>\n",
       "      <td id=\"T_29293_row0_col53\" class=\"data row0 col53\" >0.028750</td>\n",
       "      <td id=\"T_29293_row0_col54\" class=\"data row0 col54\" >-0.031486</td>\n",
       "      <td id=\"T_29293_row0_col55\" class=\"data row0 col55\" >0.193246</td>\n",
       "      <td id=\"T_29293_row0_col56\" class=\"data row0 col56\" >-0.187042</td>\n",
       "      <td id=\"T_29293_row0_col57\" class=\"data row0 col57\" >0.242784</td>\n",
       "      <td id=\"T_29293_row0_col58\" class=\"data row0 col58\" >0.176735</td>\n",
       "    </tr>\n",
       "    <tr>\n",
       "      <th id=\"T_29293_level0_row1\" class=\"row_heading level0 row1\" >FTHG</th>\n",
       "      <td id=\"T_29293_row1_col0\" class=\"data row1 col0\" >-0.127921</td>\n",
       "      <td id=\"T_29293_row1_col1\" class=\"data row1 col1\" >0.585234</td>\n",
       "      <td id=\"T_29293_row1_col2\" class=\"data row1 col2\" >-0.128724</td>\n",
       "      <td id=\"T_29293_row1_col3\" class=\"data row1 col3\" >-0.112605</td>\n",
       "      <td id=\"T_29293_row1_col4\" class=\"data row1 col4\" >-0.076080</td>\n",
       "      <td id=\"T_29293_row1_col5\" class=\"data row1 col5\" >0.038874</td>\n",
       "      <td id=\"T_29293_row1_col6\" class=\"data row1 col6\" >-0.076387</td>\n",
       "      <td id=\"T_29293_row1_col7\" class=\"data row1 col7\" >-0.133392</td>\n",
       "      <td id=\"T_29293_row1_col8\" class=\"data row1 col8\" >0.016655</td>\n",
       "      <td id=\"T_29293_row1_col9\" class=\"data row1 col9\" >-0.083056</td>\n",
       "      <td id=\"T_29293_row1_col10\" class=\"data row1 col10\" >0.059849</td>\n",
       "      <td id=\"T_29293_row1_col11\" class=\"data row1 col11\" >0.156280</td>\n",
       "      <td id=\"T_29293_row1_col12\" class=\"data row1 col12\" >-0.081358</td>\n",
       "      <td id=\"T_29293_row1_col13\" class=\"data row1 col13\" >0.188137</td>\n",
       "      <td id=\"T_29293_row1_col14\" class=\"data row1 col14\" >-0.102868</td>\n",
       "      <td id=\"T_29293_row1_col15\" class=\"data row1 col15\" >0.231550</td>\n",
       "      <td id=\"T_29293_row1_col16\" class=\"data row1 col16\" >-0.117648</td>\n",
       "      <td id=\"T_29293_row1_col17\" class=\"data row1 col17\" >0.132921</td>\n",
       "      <td id=\"T_29293_row1_col18\" class=\"data row1 col18\" >-0.063668</td>\n",
       "      <td id=\"T_29293_row1_col19\" class=\"data row1 col19\" >0.168858</td>\n",
       "      <td id=\"T_29293_row1_col20\" class=\"data row1 col20\" >0.120108</td>\n",
       "      <td id=\"T_29293_row1_col21\" class=\"data row1 col21\" >0.208027</td>\n",
       "      <td id=\"T_29293_row1_col22\" class=\"data row1 col22\" >0.127957</td>\n",
       "      <td id=\"T_29293_row1_col23\" class=\"data row1 col23\" >0.252656</td>\n",
       "      <td id=\"T_29293_row1_col24\" class=\"data row1 col24\" >0.176465</td>\n",
       "      <td id=\"T_29293_row1_col25\" class=\"data row1 col25\" >0.255204</td>\n",
       "      <td id=\"T_29293_row1_col26\" class=\"data row1 col26\" >0.176207</td>\n",
       "      <td id=\"T_29293_row1_col27\" class=\"data row1 col27\" >0.281683</td>\n",
       "      <td id=\"T_29293_row1_col28\" class=\"data row1 col28\" >-0.139178</td>\n",
       "      <td id=\"T_29293_row1_col29\" class=\"data row1 col29\" >0.314423</td>\n",
       "      <td id=\"T_29293_row1_col30\" class=\"data row1 col30\" >0.259012</td>\n",
       "      <td id=\"T_29293_row1_col31\" class=\"data row1 col31\" >0.190224</td>\n",
       "      <td id=\"T_29293_row1_col32\" class=\"data row1 col32\" >-0.090148</td>\n",
       "      <td id=\"T_29293_row1_col33\" class=\"data row1 col33\" >0.820345</td>\n",
       "      <td id=\"T_29293_row1_col34\" class=\"data row1 col34\" >0.140157</td>\n",
       "      <td id=\"T_29293_row1_col35\" class=\"data row1 col35\" >-0.131100</td>\n",
       "      <td id=\"T_29293_row1_col36\" class=\"data row1 col36\" >-0.766525</td>\n",
       "      <td id=\"T_29293_row1_col37\" class=\"data row1 col37\" >0.161991</td>\n",
       "      <td id=\"T_29293_row1_col38\" class=\"data row1 col38\" >-0.062345</td>\n",
       "      <td id=\"T_29293_row1_col39\" class=\"data row1 col39\" >0.213552</td>\n",
       "      <td id=\"T_29293_row1_col40\" class=\"data row1 col40\" >0.102074</td>\n",
       "      <td id=\"T_29293_row1_col41\" class=\"data row1 col41\" >-0.093717</td>\n",
       "      <td id=\"T_29293_row1_col42\" class=\"data row1 col42\" >-0.085480</td>\n",
       "      <td id=\"T_29293_row1_col43\" class=\"data row1 col43\" >0.266457</td>\n",
       "      <td id=\"T_29293_row1_col44\" class=\"data row1 col44\" >0.214220</td>\n",
       "      <td id=\"T_29293_row1_col45\" class=\"data row1 col45\" >0.133405</td>\n",
       "      <td id=\"T_29293_row1_col46\" class=\"data row1 col46\" >0.337465</td>\n",
       "      <td id=\"T_29293_row1_col47\" class=\"data row1 col47\" >0.666234</td>\n",
       "      <td id=\"T_29293_row1_col48\" class=\"data row1 col48\" >0.614170</td>\n",
       "      <td id=\"T_29293_row1_col49\" class=\"data row1 col49\" >0.251201</td>\n",
       "      <td id=\"T_29293_row1_col50\" class=\"data row1 col50\" >0.009119</td>\n",
       "      <td id=\"T_29293_row1_col51\" class=\"data row1 col51\" >-0.014006</td>\n",
       "      <td id=\"T_29293_row1_col52\" class=\"data row1 col52\" >0.324073</td>\n",
       "      <td id=\"T_29293_row1_col53\" class=\"data row1 col53\" >0.018587</td>\n",
       "      <td id=\"T_29293_row1_col54\" class=\"data row1 col54\" >-0.029202</td>\n",
       "      <td id=\"T_29293_row1_col55\" class=\"data row1 col55\" >0.245613</td>\n",
       "      <td id=\"T_29293_row1_col56\" class=\"data row1 col56\" >-0.161368</td>\n",
       "      <td id=\"T_29293_row1_col57\" class=\"data row1 col57\" >0.258620</td>\n",
       "      <td id=\"T_29293_row1_col58\" class=\"data row1 col58\" >0.231053</td>\n",
       "    </tr>\n",
       "    <tr>\n",
       "      <th id=\"T_29293_level0_row2\" class=\"row_heading level0 row2\" >FTAG</th>\n",
       "      <td id=\"T_29293_row2_col0\" class=\"data row2 col0\" >0.301151</td>\n",
       "      <td id=\"T_29293_row2_col1\" class=\"data row2 col1\" >-0.126841</td>\n",
       "      <td id=\"T_29293_row2_col2\" class=\"data row2 col2\" >0.569383</td>\n",
       "      <td id=\"T_29293_row2_col3\" class=\"data row2 col3\" >-0.006126</td>\n",
       "      <td id=\"T_29293_row2_col4\" class=\"data row2 col4\" >-0.051864</td>\n",
       "      <td id=\"T_29293_row2_col5\" class=\"data row2 col5\" >-0.049845</td>\n",
       "      <td id=\"T_29293_row2_col6\" class=\"data row2 col6\" >0.067192</td>\n",
       "      <td id=\"T_29293_row2_col7\" class=\"data row2 col7\" >0.096068</td>\n",
       "      <td id=\"T_29293_row2_col8\" class=\"data row2 col8\" >-0.054771</td>\n",
       "      <td id=\"T_29293_row2_col9\" class=\"data row2 col9\" >0.138264</td>\n",
       "      <td id=\"T_29293_row2_col10\" class=\"data row2 col10\" >-0.060353</td>\n",
       "      <td id=\"T_29293_row2_col11\" class=\"data row2 col11\" >-0.084122</td>\n",
       "      <td id=\"T_29293_row2_col12\" class=\"data row2 col12\" >0.119331</td>\n",
       "      <td id=\"T_29293_row2_col13\" class=\"data row2 col13\" >-0.105000</td>\n",
       "      <td id=\"T_29293_row2_col14\" class=\"data row2 col14\" >0.153898</td>\n",
       "      <td id=\"T_29293_row2_col15\" class=\"data row2 col15\" >-0.128483</td>\n",
       "      <td id=\"T_29293_row2_col16\" class=\"data row2 col16\" >0.197988</td>\n",
       "      <td id=\"T_29293_row2_col17\" class=\"data row2 col17\" >-0.067073</td>\n",
       "      <td id=\"T_29293_row2_col18\" class=\"data row2 col18\" >0.110251</td>\n",
       "      <td id=\"T_29293_row2_col19\" class=\"data row2 col19\" >-0.145529</td>\n",
       "      <td id=\"T_29293_row2_col20\" class=\"data row2 col20\" >-0.111976</td>\n",
       "      <td id=\"T_29293_row2_col21\" class=\"data row2 col21\" >-0.185665</td>\n",
       "      <td id=\"T_29293_row2_col22\" class=\"data row2 col22\" >-0.129811</td>\n",
       "      <td id=\"T_29293_row2_col23\" class=\"data row2 col23\" >-0.236222</td>\n",
       "      <td id=\"T_29293_row2_col24\" class=\"data row2 col24\" >-0.151564</td>\n",
       "      <td id=\"T_29293_row2_col25\" class=\"data row2 col25\" >-0.230000</td>\n",
       "      <td id=\"T_29293_row2_col26\" class=\"data row2 col26\" >-0.137569</td>\n",
       "      <td id=\"T_29293_row2_col27\" class=\"data row2 col27\" >-0.097012</td>\n",
       "      <td id=\"T_29293_row2_col28\" class=\"data row2 col28\" >0.247817</td>\n",
       "      <td id=\"T_29293_row2_col29\" class=\"data row2 col29\" >-0.257620</td>\n",
       "      <td id=\"T_29293_row2_col30\" class=\"data row2 col30\" >-0.169223</td>\n",
       "      <td id=\"T_29293_row2_col31\" class=\"data row2 col31\" >-0.051194</td>\n",
       "      <td id=\"T_29293_row2_col32\" class=\"data row2 col32\" >0.184719</td>\n",
       "      <td id=\"T_29293_row2_col33\" class=\"data row2 col33\" >-0.129224</td>\n",
       "      <td id=\"T_29293_row2_col34\" class=\"data row2 col34\" >-0.766175</td>\n",
       "      <td id=\"T_29293_row2_col35\" class=\"data row2 col35\" >0.718937</td>\n",
       "      <td id=\"T_29293_row2_col36\" class=\"data row2 col36\" >0.134413</td>\n",
       "      <td id=\"T_29293_row2_col37\" class=\"data row2 col37\" >-0.027467</td>\n",
       "      <td id=\"T_29293_row2_col38\" class=\"data row2 col38\" >0.160728</td>\n",
       "      <td id=\"T_29293_row2_col39\" class=\"data row2 col39\" >-0.093258</td>\n",
       "      <td id=\"T_29293_row2_col40\" class=\"data row2 col40\" >-0.065222</td>\n",
       "      <td id=\"T_29293_row2_col41\" class=\"data row2 col41\" >0.167660</td>\n",
       "      <td id=\"T_29293_row2_col42\" class=\"data row2 col42\" >0.085786</td>\n",
       "      <td id=\"T_29293_row2_col43\" class=\"data row2 col43\" >-0.223315</td>\n",
       "      <td id=\"T_29293_row2_col44\" class=\"data row2 col44\" >-0.186854</td>\n",
       "      <td id=\"T_29293_row2_col45\" class=\"data row2 col45\" >-0.107470</td>\n",
       "      <td id=\"T_29293_row2_col46\" class=\"data row2 col46\" >-0.283909</td>\n",
       "      <td id=\"T_29293_row2_col47\" class=\"data row2 col47\" >-0.553353</td>\n",
       "      <td id=\"T_29293_row2_col48\" class=\"data row2 col48\" >-0.604116</td>\n",
       "      <td id=\"T_29293_row2_col49\" class=\"data row2 col49\" >-0.210258</td>\n",
       "      <td id=\"T_29293_row2_col50\" class=\"data row2 col50\" >0.012920</td>\n",
       "      <td id=\"T_29293_row2_col51\" class=\"data row2 col51\" >-0.021655</td>\n",
       "      <td id=\"T_29293_row2_col52\" class=\"data row2 col52\" >-0.270089</td>\n",
       "      <td id=\"T_29293_row2_col53\" class=\"data row2 col53\" >-0.026470</td>\n",
       "      <td id=\"T_29293_row2_col54\" class=\"data row2 col54\" >0.011304</td>\n",
       "      <td id=\"T_29293_row2_col55\" class=\"data row2 col55\" >-0.116835</td>\n",
       "      <td id=\"T_29293_row2_col56\" class=\"data row2 col56\" >0.183342</td>\n",
       "      <td id=\"T_29293_row2_col57\" class=\"data row2 col57\" >-0.192749</td>\n",
       "      <td id=\"T_29293_row2_col58\" class=\"data row2 col58\" >-0.128752</td>\n",
       "    </tr>\n",
       "  </tbody>\n",
       "</table>\n"
      ],
      "text/plain": [
       "<pandas.io.formats.style.Styler at 0x1d016f67b80>"
      ]
     },
     "execution_count": 146,
     "metadata": {},
     "output_type": "execute_result"
    }
   ],
   "source": [
    "# print correlation matrix\n",
    "correlation_matrix_match_data_unfiltered = match_data_unfiltered.corr()[['FTR', 'FTHG', 'FTAG']]\n",
    "correlation_matrix_match_data_unfiltered = correlation_matrix_match_data_unfiltered.dropna()\n",
    "correlation_matrix_match_data_unfiltered = correlation_matrix_match_data_unfiltered.iloc[6:].T\n",
    "correlation_matrix_match_data_unfiltered.style.background_gradient()"
   ]
  },
  {
   "cell_type": "code",
   "execution_count": 147,
   "metadata": {},
   "outputs": [
    {
     "data": {
      "text/html": [
       "<style type=\"text/css\">\n",
       "#T_f6f98_row0_col0 {\n",
       "  background-color: #1c7fb8;\n",
       "  color: #f1f1f1;\n",
       "}\n",
       "#T_f6f98_row0_col1, #T_f6f98_row0_col5, #T_f6f98_row0_col6, #T_f6f98_row0_col16, #T_f6f98_row2_col0, #T_f6f98_row2_col2, #T_f6f98_row2_col3, #T_f6f98_row2_col4, #T_f6f98_row2_col7, #T_f6f98_row2_col8, #T_f6f98_row2_col9, #T_f6f98_row2_col10, #T_f6f98_row2_col11, #T_f6f98_row2_col12, #T_f6f98_row2_col13, #T_f6f98_row2_col14, #T_f6f98_row2_col15 {\n",
       "  background-color: #fff7fb;\n",
       "  color: #000000;\n",
       "}\n",
       "#T_f6f98_row0_col2, #T_f6f98_row0_col4, #T_f6f98_row0_col7, #T_f6f98_row0_col8, #T_f6f98_row0_col10, #T_f6f98_row0_col11, #T_f6f98_row1_col0, #T_f6f98_row1_col3, #T_f6f98_row1_col9, #T_f6f98_row1_col12, #T_f6f98_row1_col13, #T_f6f98_row1_col14, #T_f6f98_row1_col15, #T_f6f98_row2_col1, #T_f6f98_row2_col5, #T_f6f98_row2_col6, #T_f6f98_row2_col16 {\n",
       "  background-color: #023858;\n",
       "  color: #f1f1f1;\n",
       "}\n",
       "#T_f6f98_row0_col3 {\n",
       "  background-color: #045788;\n",
       "  color: #f1f1f1;\n",
       "}\n",
       "#T_f6f98_row0_col9 {\n",
       "  background-color: #02395a;\n",
       "  color: #f1f1f1;\n",
       "}\n",
       "#T_f6f98_row0_col12 {\n",
       "  background-color: #023a5b;\n",
       "  color: #f1f1f1;\n",
       "}\n",
       "#T_f6f98_row0_col13, #T_f6f98_row1_col10 {\n",
       "  background-color: #034165;\n",
       "  color: #f1f1f1;\n",
       "}\n",
       "#T_f6f98_row0_col14 {\n",
       "  background-color: #045e94;\n",
       "  color: #f1f1f1;\n",
       "}\n",
       "#T_f6f98_row0_col15 {\n",
       "  background-color: #045d92;\n",
       "  color: #f1f1f1;\n",
       "}\n",
       "#T_f6f98_row1_col1 {\n",
       "  background-color: #d7d6e9;\n",
       "  color: #000000;\n",
       "}\n",
       "#T_f6f98_row1_col2 {\n",
       "  background-color: #023b5d;\n",
       "  color: #f1f1f1;\n",
       "}\n",
       "#T_f6f98_row1_col4 {\n",
       "  background-color: #023e62;\n",
       "  color: #f1f1f1;\n",
       "}\n",
       "#T_f6f98_row1_col5 {\n",
       "  background-color: #dfddec;\n",
       "  color: #000000;\n",
       "}\n",
       "#T_f6f98_row1_col6 {\n",
       "  background-color: #f7f0f7;\n",
       "  color: #000000;\n",
       "}\n",
       "#T_f6f98_row1_col7, #T_f6f98_row1_col11 {\n",
       "  background-color: #034369;\n",
       "  color: #f1f1f1;\n",
       "}\n",
       "#T_f6f98_row1_col8 {\n",
       "  background-color: #03456c;\n",
       "  color: #f1f1f1;\n",
       "}\n",
       "#T_f6f98_row1_col16 {\n",
       "  background-color: #f5eef6;\n",
       "  color: #000000;\n",
       "}\n",
       "</style>\n",
       "<table id=\"T_f6f98\">\n",
       "  <thead>\n",
       "    <tr>\n",
       "      <th class=\"blank level0\" >&nbsp;</th>\n",
       "      <th id=\"T_f6f98_level0_col0\" class=\"col_heading level0 col0\" >HomeEloOld</th>\n",
       "      <th id=\"T_f6f98_level0_col1\" class=\"col_heading level0 col1\" >AwayEloOld</th>\n",
       "      <th id=\"T_f6f98_level0_col2\" class=\"col_heading level0 col2\" >DiffEloOld</th>\n",
       "      <th id=\"T_f6f98_level0_col3\" class=\"col_heading level0 col3\" >HomeAttackOld</th>\n",
       "      <th id=\"T_f6f98_level0_col4\" class=\"col_heading level0 col4\" >HomeDefendOld</th>\n",
       "      <th id=\"T_f6f98_level0_col5\" class=\"col_heading level0 col5\" >AwayAttackOld</th>\n",
       "      <th id=\"T_f6f98_level0_col6\" class=\"col_heading level0 col6\" >AwayDefendOld</th>\n",
       "      <th id=\"T_f6f98_level0_col7\" class=\"col_heading level0 col7\" >DiffDefendOld</th>\n",
       "      <th id=\"T_f6f98_level0_col8\" class=\"col_heading level0 col8\" >DiffAttackOld</th>\n",
       "      <th id=\"T_f6f98_level0_col9\" class=\"col_heading level0 col9\" >MarketValueDiff</th>\n",
       "      <th id=\"T_f6f98_level0_col10\" class=\"col_heading level0 col10\" >PDiff3Matches</th>\n",
       "      <th id=\"T_f6f98_level0_col11\" class=\"col_heading level0 col11\" >PDiffAllMatches</th>\n",
       "      <th id=\"T_f6f98_level0_col12\" class=\"col_heading level0 col12\" >PQuotAllMatches</th>\n",
       "      <th id=\"T_f6f98_level0_col13\" class=\"col_heading level0 col13\" >DirectComparisonGoalDiff</th>\n",
       "      <th id=\"T_f6f98_level0_col14\" class=\"col_heading level0 col14\" >DirectComparisonGoalQuot</th>\n",
       "      <th id=\"T_f6f98_level0_col15\" class=\"col_heading level0 col15\" >DirectComparisonHG</th>\n",
       "      <th id=\"T_f6f98_level0_col16\" class=\"col_heading level0 col16\" >DirectComparisonAG</th>\n",
       "    </tr>\n",
       "  </thead>\n",
       "  <tbody>\n",
       "    <tr>\n",
       "      <th id=\"T_f6f98_level0_row0\" class=\"row_heading level0 row0\" >FTR</th>\n",
       "      <td id=\"T_f6f98_row0_col0\" class=\"data row0 col0\" >0.103194</td>\n",
       "      <td id=\"T_f6f98_row0_col1\" class=\"data row0 col1\" >-0.126161</td>\n",
       "      <td id=\"T_f6f98_row0_col2\" class=\"data row0 col2\" >0.272295</td>\n",
       "      <td id=\"T_f6f98_row0_col3\" class=\"data row0 col3\" >0.178605</td>\n",
       "      <td id=\"T_f6f98_row0_col4\" class=\"data row0 col4\" >0.106706</td>\n",
       "      <td id=\"T_f6f98_row0_col5\" class=\"data row0 col5\" >-0.153297</td>\n",
       "      <td id=\"T_f6f98_row0_col6\" class=\"data row0 col6\" >-0.095934</td>\n",
       "      <td id=\"T_f6f98_row0_col7\" class=\"data row0 col7\" >0.144148</td>\n",
       "      <td id=\"T_f6f98_row0_col8\" class=\"data row0 col8\" >0.234319</td>\n",
       "      <td id=\"T_f6f98_row0_col9\" class=\"data row0 col9\" >0.311574</td>\n",
       "      <td id=\"T_f6f98_row0_col10\" class=\"data row0 col10\" >0.179660</td>\n",
       "      <td id=\"T_f6f98_row0_col11\" class=\"data row0 col11\" >0.275055</td>\n",
       "      <td id=\"T_f6f98_row0_col12\" class=\"data row0 col12\" >0.173635</td>\n",
       "      <td id=\"T_f6f98_row0_col13\" class=\"data row0 col13\" >0.242784</td>\n",
       "      <td id=\"T_f6f98_row0_col14\" class=\"data row0 col14\" >0.176735</td>\n",
       "      <td id=\"T_f6f98_row0_col15\" class=\"data row0 col15\" >0.193246</td>\n",
       "      <td id=\"T_f6f98_row0_col16\" class=\"data row0 col16\" >-0.187042</td>\n",
       "    </tr>\n",
       "    <tr>\n",
       "      <th id=\"T_f6f98_level0_row1\" class=\"row_heading level0 row1\" >FTHG</th>\n",
       "      <td id=\"T_f6f98_row1_col0\" class=\"data row1 col0\" >0.161991</td>\n",
       "      <td id=\"T_f6f98_row1_col1\" class=\"data row1 col1\" >-0.062345</td>\n",
       "      <td id=\"T_f6f98_row1_col2\" class=\"data row1 col2\" >0.266457</td>\n",
       "      <td id=\"T_f6f98_row1_col3\" class=\"data row1 col3\" >0.213552</td>\n",
       "      <td id=\"T_f6f98_row1_col4\" class=\"data row1 col4\" >0.102074</td>\n",
       "      <td id=\"T_f6f98_row1_col5\" class=\"data row1 col5\" >-0.093717</td>\n",
       "      <td id=\"T_f6f98_row1_col6\" class=\"data row1 col6\" >-0.085480</td>\n",
       "      <td id=\"T_f6f98_row1_col7\" class=\"data row1 col7\" >0.133405</td>\n",
       "      <td id=\"T_f6f98_row1_col8\" class=\"data row1 col8\" >0.214220</td>\n",
       "      <td id=\"T_f6f98_row1_col9\" class=\"data row1 col9\" >0.314423</td>\n",
       "      <td id=\"T_f6f98_row1_col10\" class=\"data row1 col10\" >0.168858</td>\n",
       "      <td id=\"T_f6f98_row1_col11\" class=\"data row1 col11\" >0.255204</td>\n",
       "      <td id=\"T_f6f98_row1_col12\" class=\"data row1 col12\" >0.176207</td>\n",
       "      <td id=\"T_f6f98_row1_col13\" class=\"data row1 col13\" >0.258620</td>\n",
       "      <td id=\"T_f6f98_row1_col14\" class=\"data row1 col14\" >0.231053</td>\n",
       "      <td id=\"T_f6f98_row1_col15\" class=\"data row1 col15\" >0.245613</td>\n",
       "      <td id=\"T_f6f98_row1_col16\" class=\"data row1 col16\" >-0.161368</td>\n",
       "    </tr>\n",
       "    <tr>\n",
       "      <th id=\"T_f6f98_level0_row2\" class=\"row_heading level0 row2\" >FTAG</th>\n",
       "      <td id=\"T_f6f98_row2_col0\" class=\"data row2 col0\" >-0.027467</td>\n",
       "      <td id=\"T_f6f98_row2_col1\" class=\"data row2 col1\" >0.160728</td>\n",
       "      <td id=\"T_f6f98_row2_col2\" class=\"data row2 col2\" >-0.223315</td>\n",
       "      <td id=\"T_f6f98_row2_col3\" class=\"data row2 col3\" >-0.093258</td>\n",
       "      <td id=\"T_f6f98_row2_col4\" class=\"data row2 col4\" >-0.065222</td>\n",
       "      <td id=\"T_f6f98_row2_col5\" class=\"data row2 col5\" >0.167660</td>\n",
       "      <td id=\"T_f6f98_row2_col6\" class=\"data row2 col6\" >0.085786</td>\n",
       "      <td id=\"T_f6f98_row2_col7\" class=\"data row2 col7\" >-0.107470</td>\n",
       "      <td id=\"T_f6f98_row2_col8\" class=\"data row2 col8\" >-0.186854</td>\n",
       "      <td id=\"T_f6f98_row2_col9\" class=\"data row2 col9\" >-0.257620</td>\n",
       "      <td id=\"T_f6f98_row2_col10\" class=\"data row2 col10\" >-0.145529</td>\n",
       "      <td id=\"T_f6f98_row2_col11\" class=\"data row2 col11\" >-0.230000</td>\n",
       "      <td id=\"T_f6f98_row2_col12\" class=\"data row2 col12\" >-0.137569</td>\n",
       "      <td id=\"T_f6f98_row2_col13\" class=\"data row2 col13\" >-0.192749</td>\n",
       "      <td id=\"T_f6f98_row2_col14\" class=\"data row2 col14\" >-0.128752</td>\n",
       "      <td id=\"T_f6f98_row2_col15\" class=\"data row2 col15\" >-0.116835</td>\n",
       "      <td id=\"T_f6f98_row2_col16\" class=\"data row2 col16\" >0.183342</td>\n",
       "    </tr>\n",
       "  </tbody>\n",
       "</table>\n"
      ],
      "text/plain": [
       "<pandas.io.formats.style.Styler at 0x1d0165bb8b0>"
      ]
     },
     "execution_count": 147,
     "metadata": {},
     "output_type": "execute_result"
    }
   ],
   "source": [
    "# filter for specific columns\n",
    "match_data_reduced = match_data_unfiltered.loc[:, [\"FTR\", \"FTHG\", \"FTAG\", \"HomeEloOld\", \"AwayEloOld\", \"DiffEloOld\", \"HomeAttackOld\", \"HomeDefendOld\", \n",
    "\"AwayAttackOld\", \"AwayDefendOld\", \"DiffDefendOld\", \"DiffAttackOld\", \"MarketValueDiff\", \"PDiff3Matches\", 'PDiffAllMatches', \n",
    "'PQuotAllMatches', 'DirectComparisonGoalDiff', 'DirectComparisonGoalQuot', 'DirectComparisonHG', 'DirectComparisonAG']]\n",
    "correlation_matrix_match_data_reduced = match_data_reduced.corr()[['FTR', 'FTHG', 'FTAG']].iloc[3:].T\n",
    "correlation_matrix_match_data_reduced.style.background_gradient()"
   ]
  },
  {
   "cell_type": "code",
   "execution_count": 148,
   "metadata": {},
   "outputs": [
    {
     "data": {
      "text/html": [
       "<style type=\"text/css\">\n",
       "#T_ddb7b_row0_col0, #T_ddb7b_row0_col1, #T_ddb7b_row0_col2, #T_ddb7b_row0_col4, #T_ddb7b_row0_col6, #T_ddb7b_row1_col3, #T_ddb7b_row1_col5 {\n",
       "  background-color: #023858;\n",
       "  color: #f1f1f1;\n",
       "}\n",
       "#T_ddb7b_row0_col3 {\n",
       "  background-color: #02395a;\n",
       "  color: #f1f1f1;\n",
       "}\n",
       "#T_ddb7b_row0_col5, #T_ddb7b_row1_col4 {\n",
       "  background-color: #034165;\n",
       "  color: #f1f1f1;\n",
       "}\n",
       "#T_ddb7b_row1_col0 {\n",
       "  background-color: #023b5d;\n",
       "  color: #f1f1f1;\n",
       "}\n",
       "#T_ddb7b_row1_col1, #T_ddb7b_row1_col6 {\n",
       "  background-color: #034369;\n",
       "  color: #f1f1f1;\n",
       "}\n",
       "#T_ddb7b_row1_col2 {\n",
       "  background-color: #03456c;\n",
       "  color: #f1f1f1;\n",
       "}\n",
       "#T_ddb7b_row2_col0, #T_ddb7b_row2_col1, #T_ddb7b_row2_col2, #T_ddb7b_row2_col3, #T_ddb7b_row2_col4, #T_ddb7b_row2_col5, #T_ddb7b_row2_col6 {\n",
       "  background-color: #fff7fb;\n",
       "  color: #000000;\n",
       "}\n",
       "</style>\n",
       "<table id=\"T_ddb7b\">\n",
       "  <thead>\n",
       "    <tr>\n",
       "      <th class=\"blank level0\" >&nbsp;</th>\n",
       "      <th id=\"T_ddb7b_level0_col0\" class=\"col_heading level0 col0\" >DiffEloOld</th>\n",
       "      <th id=\"T_ddb7b_level0_col1\" class=\"col_heading level0 col1\" >DiffDefendOld</th>\n",
       "      <th id=\"T_ddb7b_level0_col2\" class=\"col_heading level0 col2\" >DiffAttackOld</th>\n",
       "      <th id=\"T_ddb7b_level0_col3\" class=\"col_heading level0 col3\" >MarketValueDiff</th>\n",
       "      <th id=\"T_ddb7b_level0_col4\" class=\"col_heading level0 col4\" >PDiff3Matches</th>\n",
       "      <th id=\"T_ddb7b_level0_col5\" class=\"col_heading level0 col5\" >DirectComparisonGoalDiff</th>\n",
       "      <th id=\"T_ddb7b_level0_col6\" class=\"col_heading level0 col6\" >PDiffAllMatches</th>\n",
       "    </tr>\n",
       "  </thead>\n",
       "  <tbody>\n",
       "    <tr>\n",
       "      <th id=\"T_ddb7b_level0_row0\" class=\"row_heading level0 row0\" >FTR</th>\n",
       "      <td id=\"T_ddb7b_row0_col0\" class=\"data row0 col0\" >0.272295</td>\n",
       "      <td id=\"T_ddb7b_row0_col1\" class=\"data row0 col1\" >0.144148</td>\n",
       "      <td id=\"T_ddb7b_row0_col2\" class=\"data row0 col2\" >0.234319</td>\n",
       "      <td id=\"T_ddb7b_row0_col3\" class=\"data row0 col3\" >0.311574</td>\n",
       "      <td id=\"T_ddb7b_row0_col4\" class=\"data row0 col4\" >0.179660</td>\n",
       "      <td id=\"T_ddb7b_row0_col5\" class=\"data row0 col5\" >0.242784</td>\n",
       "      <td id=\"T_ddb7b_row0_col6\" class=\"data row0 col6\" >0.275055</td>\n",
       "    </tr>\n",
       "    <tr>\n",
       "      <th id=\"T_ddb7b_level0_row1\" class=\"row_heading level0 row1\" >FTHG</th>\n",
       "      <td id=\"T_ddb7b_row1_col0\" class=\"data row1 col0\" >0.266457</td>\n",
       "      <td id=\"T_ddb7b_row1_col1\" class=\"data row1 col1\" >0.133405</td>\n",
       "      <td id=\"T_ddb7b_row1_col2\" class=\"data row1 col2\" >0.214220</td>\n",
       "      <td id=\"T_ddb7b_row1_col3\" class=\"data row1 col3\" >0.314423</td>\n",
       "      <td id=\"T_ddb7b_row1_col4\" class=\"data row1 col4\" >0.168858</td>\n",
       "      <td id=\"T_ddb7b_row1_col5\" class=\"data row1 col5\" >0.258620</td>\n",
       "      <td id=\"T_ddb7b_row1_col6\" class=\"data row1 col6\" >0.255204</td>\n",
       "    </tr>\n",
       "    <tr>\n",
       "      <th id=\"T_ddb7b_level0_row2\" class=\"row_heading level0 row2\" >FTAG</th>\n",
       "      <td id=\"T_ddb7b_row2_col0\" class=\"data row2 col0\" >-0.223315</td>\n",
       "      <td id=\"T_ddb7b_row2_col1\" class=\"data row2 col1\" >-0.107470</td>\n",
       "      <td id=\"T_ddb7b_row2_col2\" class=\"data row2 col2\" >-0.186854</td>\n",
       "      <td id=\"T_ddb7b_row2_col3\" class=\"data row2 col3\" >-0.257620</td>\n",
       "      <td id=\"T_ddb7b_row2_col4\" class=\"data row2 col4\" >-0.145529</td>\n",
       "      <td id=\"T_ddb7b_row2_col5\" class=\"data row2 col5\" >-0.192749</td>\n",
       "      <td id=\"T_ddb7b_row2_col6\" class=\"data row2 col6\" >-0.230000</td>\n",
       "    </tr>\n",
       "  </tbody>\n",
       "</table>\n"
      ],
      "text/plain": [
       "<pandas.io.formats.style.Styler at 0x1d016ff8e80>"
      ]
     },
     "execution_count": 148,
     "metadata": {},
     "output_type": "execute_result"
    }
   ],
   "source": [
    "# focus on best Features\n",
    "correlation_matrix_match_data_reduced = correlation_matrix_match_data_reduced.loc[:, [\n",
    "    \"DiffEloOld\", \"DiffDefendOld\", \"DiffAttackOld\", \"MarketValueDiff\", \"PDiff3Matches\", \"DirectComparisonGoalDiff\", \"PDiffAllMatches\"]]\n",
    "correlation_matrix_match_data_reduced.style.background_gradient()"
   ]
  },
  {
   "cell_type": "code",
   "execution_count": 149,
   "metadata": {},
   "outputs": [],
   "source": [
    "match_data_bl = match_data_unfiltered.copy(deep=True)"
   ]
  },
  {
   "cell_type": "code",
   "execution_count": 150,
   "metadata": {},
   "outputs": [],
   "source": [
    "# split data to train/test and X/y\n",
    "features = [\"DiffEloOld\", \"DiffAttackOld\", \"DiffDefendOld\", \"PDiff3Matches\", \"PDiff10Matches\", \"PQuotAllMatches\", \n",
    "            \"MarketValueDiff\", \"DirectComparisonHG\", \"DirectComparisonAG\"]\n",
    "match_data_bl_wo_nan = match_data_bl.dropna(subset=features)\n",
    "X = match_data_bl_wo_nan.loc[:, features]\n",
    "y = match_data_bl_wo_nan.loc[:, [\"FTR\"]]\n",
    "X_train, X_test, y_train, y_test = train_test_split(X, y, test_size=0.33, random_state=42)"
   ]
  },
  {
   "cell_type": "code",
   "execution_count": 151,
   "metadata": {},
   "outputs": [],
   "source": [
    "# scale data\n",
    "X_scaled = scale(X)\n",
    "\n",
    "X_train_scaled, X_test_scaled, y_train, y_test = train_test_split(X_scaled,\n",
    "                                                    y,\n",
    "                                                    test_size=0.33,\n",
    "                                                    random_state=42)"
   ]
  },
  {
   "cell_type": "markdown",
   "metadata": {},
   "source": [
    "## Mathematical Approach"
   ]
  },
  {
   "cell_type": "code",
   "execution_count": 152,
   "metadata": {},
   "outputs": [],
   "source": [
    "# copy initial df for mathematical approach\n",
    "match_data_all_bundesliga = match_data_unfiltered.copy(deep=True)\n",
    "# convert string date to pandas datetime\n",
    "match_data_all_bundesliga['Date'] = pd.to_datetime(match_data_all_bundesliga['Date'], dayfirst=True)\n",
    "# split bl dataframe to test (last 5 years bevor this season) and train (last season)\n",
    "df_bl_test_whole_saison = match_data_all_bundesliga[match_data_all_bundesliga['Date'] > pd.to_datetime('2021-06-30')]\n",
    "df_bl_test_season_partly = match_data_all_bundesliga[match_data_all_bundesliga['Date'] > pd.to_datetime('2021-11-30')]\n",
    "match_data_bl_past_5_years = match_data_all_bundesliga[(match_data_all_bundesliga.Date < pd.to_datetime('2021-11-30'))&(match_data_all_bundesliga.Date > pd.to_datetime('2015-06-30'))]\n",
    "match_data_bl_test = match_data_all_bundesliga[(match_data_all_bundesliga.Date < pd.to_datetime('2021-06-30'))]"
   ]
  },
  {
   "cell_type": "code",
   "execution_count": 153,
   "metadata": {},
   "outputs": [],
   "source": [
    "# get array with goals scored in direct comparison\n",
    "history_pair_h = match_data_bl_past_5_years.groupby(['HomeTeam', 'AwayTeam'])\n",
    "ave_home_scored = history_pair_h['FTHG'].mean()\n",
    "history_pair_a = match_data_bl_past_5_years.groupby(['AwayTeam', 'HomeTeam'])\n",
    "ave_away_scored = history_pair_a['FTAG'].mean()"
   ]
  },
  {
   "cell_type": "code",
   "execution_count": 154,
   "metadata": {},
   "outputs": [],
   "source": [
    "home_goals_av = np.ones(100)\n",
    "away_goals_av = np.ones(100)\n",
    "\n",
    "for i in range(len(match_data_unfiltered)-1000):\n",
    "    counter = i + 1000\n",
    "    home_team = match_data_unfiltered['HomeTeam'].iloc[counter]\n",
    "    away_team = match_data_unfiltered['AwayTeam'].iloc[counter]"
   ]
  },
  {
   "cell_type": "code",
   "execution_count": 155,
   "metadata": {},
   "outputs": [],
   "source": [
    "# predict with the possion distribution which team will win \n",
    "def get_score(home, away, number_of_simulations):\n",
    "    result = []\n",
    "    try:\n",
    "        ave_h_scored = ave_home_scored.loc[home, away]#, ave_away_scored.loc(away)}\n",
    "        ave_a_scored = ave_away_scored.loc[away, home]\n",
    "        # if the teams already played against each other it uses the last games goal distribution \n",
    "        # to predict the result for the pending game\n",
    "        for i in range(number_of_simulations):\n",
    "            h_scored = poisson.rvs(1, ave_h_scored)\n",
    "            a_scored = poisson.rvs(1, ave_a_scored)\n",
    "            result.append([h_scored, a_scored])\n",
    "        return result\n",
    "\n",
    "    except:\n",
    "        t_ave_h_scored = ave_home_scored.loc[home].mean()\n",
    "        t_ave_h_conceded = ave_away_scored.loc[:, home].mean()\n",
    "        t_ave_a_scored = ave_away_scored.loc[away].mean()\n",
    "        t_ave_a_conceded = ave_home_scored.loc[:, away].mean()\n",
    "\n",
    "        for i in range(number_of_simulations):\n",
    "            h_scored = poisson.rvs(1, (t_ave_h_scored+t_ave_a_conceded)/2)\n",
    "            a_scored = poisson.rvs(1, (t_ave_a_scored+t_ave_h_conceded)/2)\n",
    "            result.append([h_scored, a_scored])\n",
    "        return result"
   ]
  },
  {
   "cell_type": "code",
   "execution_count": 156,
   "metadata": {},
   "outputs": [],
   "source": [
    "# simulate one single match x times and predict result for it\n",
    "alpha = 0.025\n",
    "number_of_repetitions = 1000\n",
    "\n",
    "def get_result_for_one_single_match(home_team, away_team):\n",
    "    result = []\n",
    "    x = get_score(home_team, away_team, number_of_repetitions)\n",
    "    for i in x:\n",
    "        if i[0] > i[1]:\n",
    "            result.append(2)\n",
    "        elif i[0] == i[1]:\n",
    "            result.append(1)\n",
    "        else:\n",
    "            result.append(0)\n",
    "    home_win = result.count(2)/len(result)\n",
    "    away_win = result.count(0)/len(result)\n",
    "    draw = result.count(1)/len(result)\n",
    "    # print(f\"Probability for home win: {home_win}, Away_win: {away_win}, draw: {draw}, Teams: {home_team, away_team}\")\n",
    "    return 2 if home_win > away_win and home_win > (draw+alpha) else 0 if away_win > (draw+alpha) else 1 "
   ]
  },
  {
   "cell_type": "code",
   "execution_count": 157,
   "metadata": {},
   "outputs": [],
   "source": [
    "# simulate poisson regression for all games\n",
    "df_bl_test_season_partly['PredictedResult'] = None\n",
    "for i in df_bl_test_season_partly.index:\n",
    "    home_team = df_bl_test_season_partly.loc[i, 'HomeTeam']\n",
    "    away_team = df_bl_test_season_partly.loc[i, 'AwayTeam']\n",
    "    df_bl_test_season_partly.loc[i, 'PredictedResult'] = get_result_for_one_single_match(home_team, away_team)"
   ]
  },
  {
   "cell_type": "code",
   "execution_count": 158,
   "metadata": {},
   "outputs": [
    {
     "name": "stdout",
     "output_type": "stream",
     "text": [
      "Accuracy of mathematical approach is: 0.42%\n"
     ]
    }
   ],
   "source": [
    "# get accuracy\n",
    "acc = len(df_bl_test_season_partly[df_bl_test_season_partly['FTR']==df_bl_test_season_partly['PredictedResult']])/\\\n",
    "      len(df_bl_test_season_partly)\n",
    "print(f\"Accuracy of mathematical approach is: {round(acc, 2)}%\")"
   ]
  },
  {
   "cell_type": "code",
   "execution_count": 159,
   "metadata": {},
   "outputs": [
    {
     "data": {
      "text/plain": [
       "2    84\n",
       "0    60\n",
       "1    45\n",
       "Name: FTR, dtype: int64"
      ]
     },
     "execution_count": 159,
     "metadata": {},
     "output_type": "execute_result"
    }
   ],
   "source": [
    "# get actual number of home wins, draws and away wins \n",
    "df_bl_test_season_partly['FTR'].value_counts()"
   ]
  },
  {
   "cell_type": "code",
   "execution_count": 160,
   "metadata": {},
   "outputs": [
    {
     "data": {
      "text/plain": [
       "2    113\n",
       "0     66\n",
       "1     10\n",
       "Name: PredictedResult, dtype: int64"
      ]
     },
     "execution_count": 160,
     "metadata": {},
     "output_type": "execute_result"
    }
   ],
   "source": [
    "# get predicted number of home wins, draws and away wins \n",
    "df_bl_test_season_partly['PredictedResult'].value_counts()"
   ]
  },
  {
   "cell_type": "markdown",
   "metadata": {},
   "source": [
    "## Train Decision Tree Classifier as first Model"
   ]
  },
  {
   "cell_type": "code",
   "execution_count": 161,
   "metadata": {},
   "outputs": [],
   "source": [
    "clf = tree.DecisionTreeClassifier()\n",
    "clf = clf.fit(X_train, y_train)"
   ]
  },
  {
   "cell_type": "code",
   "execution_count": 162,
   "metadata": {},
   "outputs": [],
   "source": [
    "clf_scaled = tree.DecisionTreeClassifier()\n",
    "clf_scaled = clf_scaled.fit(X_train_scaled, y_train)"
   ]
  },
  {
   "cell_type": "code",
   "execution_count": 163,
   "metadata": {},
   "outputs": [
    {
     "data": {
      "text/plain": [
       "array([2, 2, 2, ..., 0, 2, 0], dtype=int64)"
      ]
     },
     "execution_count": 163,
     "metadata": {},
     "output_type": "execute_result"
    }
   ],
   "source": [
    "clf.predict(X_test)"
   ]
  },
  {
   "cell_type": "code",
   "execution_count": 164,
   "metadata": {},
   "outputs": [
    {
     "data": {
      "text/plain": [
       "array([2, 2, 2, ..., 0, 2, 0], dtype=int64)"
      ]
     },
     "execution_count": 164,
     "metadata": {},
     "output_type": "execute_result"
    }
   ],
   "source": [
    "clf_scaled.predict(X_test_scaled)"
   ]
  },
  {
   "cell_type": "code",
   "execution_count": 165,
   "metadata": {},
   "outputs": [],
   "source": [
    "result = clf.score(X_test, y_test)\n",
    "result_scaled = clf_scaled.score(X_test_scaled, y_test)"
   ]
  },
  {
   "cell_type": "code",
   "execution_count": 166,
   "metadata": {},
   "outputs": [
    {
     "data": {
      "text/plain": [
       "0.3579439252336449"
      ]
     },
     "execution_count": 166,
     "metadata": {},
     "output_type": "execute_result"
    }
   ],
   "source": [
    "result"
   ]
  },
  {
   "cell_type": "code",
   "execution_count": 167,
   "metadata": {},
   "outputs": [
    {
     "data": {
      "text/plain": [
       "0.3813084112149533"
      ]
     },
     "execution_count": 167,
     "metadata": {},
     "output_type": "execute_result"
    }
   ],
   "source": [
    "result_scaled"
   ]
  },
  {
   "cell_type": "code",
   "execution_count": 168,
   "metadata": {},
   "outputs": [
    {
     "name": "stdout",
     "output_type": "stream",
     "text": [
      "Confusion matrix, without normalization\n",
      "[[110  96 122]\n",
      " [ 80  65 112]\n",
      " [148 129 208]]\n",
      "Normalized confusion matrix\n",
      "[[0.33536585 0.29268293 0.37195122]\n",
      " [0.31128405 0.25291829 0.43579767]\n",
      " [0.30515464 0.26597938 0.42886598]]\n"
     ]
    },
    {
     "data": {
      "image/png": "[encoded data removed]",
      "text/plain": [
       "<Figure size 432x288 with 2 Axes>"
      ]
     },
     "metadata": {},
     "output_type": "display_data"
    },
    {
     "data": {
      "image/png": "[encoded data removed]",
      "text/plain": [
       "<Figure size 432x288 with 2 Axes>"
      ]
     },
     "metadata": {},
     "output_type": "display_data"
    }
   ],
   "source": [
    "class_names = {\n",
    "    'Away'\n",
    "    ,'Draw',\n",
    "    'Home'\n",
    "}\n",
    "# Plot non-normalized confusion matrix\n",
    "titles_options = [\n",
    "    (\"Confusion matrix, without normalization\", None),\n",
    "    (\"Normalized confusion matrix\", \"true\"),\n",
    "]\n",
    "for title, normalize in titles_options:\n",
    "    disp = ConfusionMatrixDisplay.from_estimator(\n",
    "        clf,\n",
    "        X_test,\n",
    "        y_test,\n",
    "        #display_labels=class_names,\n",
    "        cmap=plt.cm.Blues,\n",
    "        normalize=normalize,\n",
    "    )\n",
    "    disp.ax_.set_title(title)\n",
    "\n",
    "    print(title)\n",
    "    print(disp.confusion_matrix)\n",
    "\n",
    "plt.show()"
   ]
  },
  {
   "cell_type": "markdown",
   "metadata": {},
   "source": [
    "## Ensemble Learning"
   ]
  },
  {
   "cell_type": "code",
   "execution_count": 170,
   "metadata": {},
   "outputs": [],
   "source": [
    "# get a list of models to evaluate\n",
    "def get_models():\n",
    "    models = dict()\n",
    "    models['lr'] = LogisticRegression()\n",
    "    models['lda'] = LinearDiscriminantAnalysis()\n",
    "    models['knn'] = KNeighborsClassifier()\n",
    "    models['cart'] = DecisionTreeClassifier()\n",
    "    models['svm'] = SVC()\n",
    "    models['bayes'] = GaussianNB()\n",
    "    return models"
   ]
  },
  {
   "cell_type": "code",
   "execution_count": 171,
   "metadata": {},
   "outputs": [],
   "source": [
    "# evaluate a given model using cross-validation\n",
    "def evaluate_model(model, X, y):\n",
    "    cv = RepeatedStratifiedKFold(n_splits=5, n_repeats=10, random_state=42)\n",
    "    scores = cross_val_score(model,\n",
    "                             X,\n",
    "                             y,\n",
    "                             scoring='accuracy',\n",
    "                             cv=cv,\n",
    "                             n_jobs=-1,\n",
    "                             error_score='raise')\n",
    "    return scores"
   ]
  },
  {
   "cell_type": "code",
   "execution_count": 172,
   "metadata": {},
   "outputs": [
    {
     "name": "stdout",
     "output_type": "stream",
     "text": [
      ">lr 0.513 (0.014)\n",
      ">lda 0.510 (0.015)\n",
      ">knn 0.419 (0.015)\n",
      ">cart 0.400 (0.019)\n",
      ">svm 0.507 (0.013)\n",
      ">bayes 0.476 (0.019)\n"
     ]
    },
    {
     "data": {
      "image/png": "[encoded data removed]",
      "text/plain": [
       "<Figure size 432x288 with 1 Axes>"
      ]
     },
     "metadata": {},
     "output_type": "display_data"
    }
   ],
   "source": [
    "# get the models to evaluate\n",
    "models = get_models()\n",
    "# evaluate the models and store results\n",
    "results, names = list(), list()\n",
    "for name, model in models.items():\n",
    "    scores = evaluate_model(model, X, y)\n",
    "    results.append(scores)\n",
    "    names.append(name)\n",
    "    print('>%s %.3f (%.3f)' % (name, mean(scores), std(scores)))\n",
    "# plot model performance for comparison\n",
    "pyplot.boxplot(results, labels=names, showmeans=True)\n",
    "pyplot.show()"
   ]
  },
  {
   "cell_type": "code",
   "execution_count": 173,
   "metadata": {},
   "outputs": [
    {
     "name": "stdout",
     "output_type": "stream",
     "text": [
      ">lr 0.510 (0.014)\n",
      ">lda 0.510 (0.015)\n",
      ">knn 0.422 (0.015)\n",
      ">cart 0.397 (0.016)\n",
      ">svm 0.510 (0.014)\n",
      ">bayes 0.476 (0.019)\n"
     ]
    },
    {
     "data": {
      "image/png": "[encoded data removed]",
      "text/plain": [
       "<Figure size 432x288 with 1 Axes>"
      ]
     },
     "metadata": {},
     "output_type": "display_data"
    }
   ],
   "source": [
    "# scaled X\n",
    "\n",
    "# get the models to evaluate\n",
    "models = get_models()\n",
    "# evaluate the models and store results\n",
    "results, names = list(), list()\n",
    "for name, model in models.items():\n",
    "    scores = evaluate_model(model, X_scaled, y)\n",
    "    results.append(scores)\n",
    "    names.append(name)\n",
    "    print('>%s %.3f (%.3f)' % (name, mean(scores), std(scores)))\n",
    "# plot model performance for comparison\n",
    "pyplot.boxplot(results, labels=names, showmeans=True)\n",
    "pyplot.show()"
   ]
  },
  {
   "cell_type": "markdown",
   "metadata": {},
   "source": [
    "### Stack the single models to a combination"
   ]
  },
  {
   "cell_type": "code",
   "execution_count": 174,
   "metadata": {},
   "outputs": [],
   "source": [
    "def get_stacking():\n",
    "    # define the base models\n",
    "    level0 = list()\n",
    "    level0.append(('lr', LogisticRegression()))\n",
    "    level0.append(('lda', LinearDiscriminantAnalysis()))\n",
    "    level0.append(('knn', KNeighborsClassifier()))\n",
    "    level0.append(('cart', DecisionTreeClassifier()))\n",
    "    level0.append(('svm', SVC()))\n",
    "    level0.append(('bayes', GaussianNB()))\n",
    "    # define meta learner model\n",
    "    level1 = LogisticRegression()\n",
    "    # define the stacking ensemble\n",
    "    model = StackingClassifier(estimators=level0, final_estimator=level1, cv=5)\n",
    "    return model\n"
   ]
  },
  {
   "cell_type": "code",
   "execution_count": 175,
   "metadata": {},
   "outputs": [],
   "source": [
    "# get a list of models to evaluate\n",
    "def get_models():\n",
    "    models = dict()\n",
    "    models['lr'] = LogisticRegression()\n",
    "    models['lda'] = LinearDiscriminantAnalysis()\n",
    "    models['knn'] = KNeighborsClassifier()\n",
    "    models['cart'] = DecisionTreeClassifier()\n",
    "    models['svm'] = SVC()\n",
    "    models['bayes'] = GaussianNB()\n",
    "    models['stacking'] = get_stacking()\n",
    "    return models\n"
   ]
  },
  {
   "cell_type": "code",
   "execution_count": 176,
   "metadata": {},
   "outputs": [
    {
     "name": "stdout",
     "output_type": "stream",
     "text": [
      ">lr 0.513 (0.014)\n",
      ">lda 0.510 (0.015)\n",
      ">knn 0.419 (0.015)\n",
      ">cart 0.399 (0.015)\n",
      ">svm 0.507 (0.013)\n",
      ">bayes 0.476 (0.019)\n",
      ">stacking 0.510 (0.016)\n"
     ]
    },
    {
     "data": {
      "image/png": "[encoded data removed]",
      "text/plain": [
       "<Figure size 432x288 with 1 Axes>"
      ]
     },
     "metadata": {},
     "output_type": "display_data"
    }
   ],
   "source": [
    "models = get_models()\n",
    "# evaluate the models and store results\n",
    "results, names = list(), list()\n",
    "for name, model in models.items():\n",
    "\tscores = evaluate_model(model, X, y)\n",
    "\tresults.append(scores)\n",
    "\tnames.append(name)\n",
    "\tprint('>%s %.3f (%.3f)' % (name, mean(scores), std(scores)))\n",
    "# plot model performance for comparison\n",
    "pyplot.boxplot(results, labels=names, showmeans=True)\n",
    "pyplot.show()"
   ]
  },
  {
   "cell_type": "markdown",
   "metadata": {},
   "source": [
    "## Neural Network"
   ]
  },
  {
   "cell_type": "markdown",
   "metadata": {},
   "source": [
    "### Functions for first Neural Network"
   ]
  },
  {
   "cell_type": "code",
   "execution_count": 177,
   "metadata": {},
   "outputs": [],
   "source": [
    "def one_hot_encode_outputs(y_train, y_test):\n",
    "    # one hot encode outputs\n",
    "    y_train = to_categorical(y_train)\n",
    "    y_test = to_categorical(y_test)\n",
    "    return y_train, y_test"
   ]
  },
  {
   "cell_type": "code",
   "execution_count": 178,
   "metadata": {},
   "outputs": [],
   "source": [
    "def train_model(X_train, y_train, number_of_epochs=20):\n",
    "    model = Sequential()\n",
    "    model.add(Dense(500, activation='relu', input_dim=X_train.shape[1]))\n",
    "    model.add(Dense(100, activation='relu'))\n",
    "    model.add(Dense(50, activation='relu'))\n",
    "    model.add(Dense(3, activation='softmax'))\n",
    "\n",
    "    # Compile the model\n",
    "    model.compile(optimizer='adam',\n",
    "                loss='categorical_crossentropy',\n",
    "                metrics=['accuracy'])\n",
    "    # build the model\n",
    "    history = model.fit(X_train, y_train, epochs=number_of_epochs)\n",
    "    return history, model"
   ]
  },
  {
   "cell_type": "code",
   "execution_count": 179,
   "metadata": {},
   "outputs": [],
   "source": [
    "def print_accuracy(X_train, y_train, X_test, y_test, model):\n",
    "    pred_train= model.predict(X_train)\n",
    "    scores = model.evaluate(X_train, y_train, verbose=0)\n",
    "    print('Accuracy on training data: {}% \\n Error on training data: {}'.format(scores[1], 1 - scores[1]))   \n",
    "    \n",
    "    pred_test= model.predict(X_test)\n",
    "    scores2 = model.evaluate(X_test, y_test, verbose=0)\n",
    "    print('Accuracy on test data: {}% \\n Error on test data: {}'.format(scores2[1], 1 - scores2[1]))  \n",
    "    return pred_train, pred_test"
   ]
  },
  {
   "cell_type": "code",
   "execution_count": 180,
   "metadata": {},
   "outputs": [],
   "source": [
    "def get_predictions(pred_test, y_test, alpha = 0.05):\n",
    "    y_pred = []\n",
    "    for test in pred_test:\n",
    "        if test[2] > test[1] and test[2] > test[0] and abs(test[2] - test[0]) > alpha:\n",
    "            y_pred.append(2)\n",
    "        elif test[0] > test[1] and abs(test[2] - test[0]) > alpha:\n",
    "            y_pred.append(0)\n",
    "        else:\n",
    "            y_pred.append(1)\n",
    "    y_test_res = []\n",
    "    for test in y_test:\n",
    "        for counter, j in enumerate(test):\n",
    "            if np.max(test)==j:\n",
    "                y_test_res.append(counter)\n",
    "    return y_test_res, y_pred"
   ]
  },
  {
   "cell_type": "code",
   "execution_count": 181,
   "metadata": {},
   "outputs": [],
   "source": [
    "def print_confusion_matrix(y_test_res, y_pred):\n",
    "    from sklearn.metrics import confusion_matrix, ConfusionMatrixDisplay\n",
    "    cf = confusion_matrix(y_test_res, y_pred) #, labels=[\"Draw\", \"Home\", \"Away\"])\n",
    "    cfd = ConfusionMatrixDisplay(cf, display_labels=[\"Away\", \"Draw\", \"Home\"])\n",
    "    cfd.plot(cmap=plt.cm.Blues)"
   ]
  },
  {
   "cell_type": "markdown",
   "metadata": {},
   "source": [
    "### Testing first NN"
   ]
  },
  {
   "cell_type": "markdown",
   "metadata": {},
   "source": [
    "#### test first NN with random data"
   ]
  },
  {
   "cell_type": "code",
   "execution_count": 182,
   "metadata": {},
   "outputs": [
    {
     "name": "stdout",
     "output_type": "stream",
     "text": [
      "Epoch 1/15\n",
      "68/68 [==============================] - 1s 2ms/step - loss: 2.4604 - accuracy: 0.4124\n",
      "Epoch 2/15\n",
      "68/68 [==============================] - 0s 3ms/step - loss: 1.6049 - accuracy: 0.4525\n",
      "Epoch 3/15\n",
      "68/68 [==============================] - ETA: 0s - loss: 1.3972 - accuracy: 0.44 - 0s 3ms/step - loss: 1.3720 - accuracy: 0.4452\n",
      "Epoch 4/15\n",
      "68/68 [==============================] - 0s 3ms/step - loss: 1.1512 - accuracy: 0.4677\n",
      "Epoch 5/15\n",
      "68/68 [==============================] - 0s 3ms/step - loss: 1.1173 - accuracy: 0.4700\n",
      "Epoch 6/15\n",
      "68/68 [==============================] - 0s 3ms/step - loss: 1.0902 - accuracy: 0.4797\n",
      "Epoch 7/15\n",
      "68/68 [==============================] - 0s 3ms/step - loss: 1.1048 - accuracy: 0.4779\n",
      "Epoch 8/15\n",
      "68/68 [==============================] - 0s 3ms/step - loss: 1.0621 - accuracy: 0.4991\n",
      "Epoch 9/15\n",
      "68/68 [==============================] - 0s 3ms/step - loss: 1.0322 - accuracy: 0.4903\n",
      "Epoch 10/15\n",
      "68/68 [==============================] - 0s 3ms/step - loss: 1.0674 - accuracy: 0.4949\n",
      "Epoch 11/15\n",
      "68/68 [==============================] - 0s 3ms/step - loss: 1.0311 - accuracy: 0.5005\n",
      "Epoch 12/15\n",
      "68/68 [==============================] - 0s 2ms/step - loss: 1.0250 - accuracy: 0.4949\n",
      "Epoch 13/15\n",
      "68/68 [==============================] - 0s 3ms/step - loss: 1.0390 - accuracy: 0.4954\n",
      "Epoch 14/15\n",
      "68/68 [==============================] - 0s 3ms/step - loss: 1.0144 - accuracy: 0.5041\n",
      "Epoch 15/15\n",
      "68/68 [==============================] - 0s 2ms/step - loss: 1.0198 - accuracy: 0.5088\n",
      "Accuracy on training data: 0.5059908032417297% \n",
      " Error on training data: 0.49400919675827026\n",
      "Accuracy on test data: 0.48785045742988586% \n",
      " Error on test data: 0.5121495425701141\n"
     ]
    },
    {
     "data": {
      "image/png": "[encoded data removed]",
      "text/plain": [
       "<Figure size 432x288 with 2 Axes>"
      ]
     },
     "metadata": {},
     "output_type": "display_data"
    }
   ],
   "source": [
    "# learn model with random split for train test data\n",
    "y_train, y_test = one_hot_encode_outputs(y_train, y_test)\n",
    "trained_model_history, model = train_model(X_train, y_train, number_of_epochs=15)\n",
    "pred_train, pred_test = print_accuracy(X_train, y_train, X_test, y_test, model)\n",
    "y_test_res, y_pred = get_predictions(pred_test, y_test)\n",
    "print_confusion_matrix(y_test_res, y_pred)"
   ]
  },
  {
   "cell_type": "code",
   "execution_count": 183,
   "metadata": {},
   "outputs": [
    {
     "name": "stdout",
     "output_type": "stream",
     "text": [
      "Epoch 1/15\n",
      "68/68 [==============================] - 1s 2ms/step - loss: 1.0153 - accuracy: 0.5018\n",
      "Epoch 2/15\n",
      "68/68 [==============================] - 0s 3ms/step - loss: 0.9923 - accuracy: 0.5111\n",
      "Epoch 3/15\n",
      "68/68 [==============================] - 0s 3ms/step - loss: 0.9898 - accuracy: 0.5129\n",
      "Epoch 4/15\n",
      "68/68 [==============================] - 0s 3ms/step - loss: 0.9826 - accuracy: 0.5226\n",
      "Epoch 5/15\n",
      "68/68 [==============================] - 0s 3ms/step - loss: 0.9761 - accuracy: 0.5207\n",
      "Epoch 6/15\n",
      "68/68 [==============================] - 0s 3ms/step - loss: 0.9665 - accuracy: 0.5350\n",
      "Epoch 7/15\n",
      "68/68 [==============================] - 0s 3ms/step - loss: 0.9618 - accuracy: 0.5346\n",
      "Epoch 8/15\n",
      "68/68 [==============================] - 0s 4ms/step - loss: 0.9555 - accuracy: 0.5401\n",
      "Epoch 9/15\n",
      "68/68 [==============================] - 0s 3ms/step - loss: 0.9486 - accuracy: 0.5392\n",
      "Epoch 10/15\n",
      "68/68 [==============================] - 0s 3ms/step - loss: 0.9392 - accuracy: 0.5516\n",
      "Epoch 11/15\n",
      "68/68 [==============================] - 0s 2ms/step - loss: 0.9341 - accuracy: 0.5631\n",
      "Epoch 12/15\n",
      "68/68 [==============================] - 0s 2ms/step - loss: 0.9200 - accuracy: 0.5696\n",
      "Epoch 13/15\n",
      "68/68 [==============================] - 0s 3ms/step - loss: 0.9104 - accuracy: 0.5668\n",
      "Epoch 14/15\n",
      "68/68 [==============================] - 0s 3ms/step - loss: 0.8964 - accuracy: 0.5843\n",
      "Epoch 15/15\n",
      "68/68 [==============================] - 0s 3ms/step - loss: 0.8873 - accuracy: 0.5885\n",
      "Accuracy on training data: 0.6101382374763489% \n",
      " Error on training data: 0.3898617625236511\n",
      "Accuracy on test data: 0.47663551568984985% \n",
      " Error on test data: 0.5233644843101501\n"
     ]
    },
    {
     "data": {
      "image/png": "[encoded data removed]",
      "text/plain": [
       "<Figure size 432x288 with 2 Axes>"
      ]
     },
     "metadata": {},
     "output_type": "display_data"
    }
   ],
   "source": [
    "# learn model with random split for train test data\n",
    "trained_model_history, model = train_model(X_train_scaled,\n",
    "                                           y_train,\n",
    "                                           number_of_epochs=15)\n",
    "pred_train, pred_test = print_accuracy(X_train_scaled, y_train, X_test_scaled, y_test, model)\n",
    "y_test_res, y_pred = get_predictions(pred_test, y_test)\n",
    "print_confusion_matrix(y_test_res, y_pred)"
   ]
  },
  {
   "cell_type": "markdown",
   "metadata": {},
   "source": [
    "#### test first NN with last season data"
   ]
  },
  {
   "cell_type": "code",
   "execution_count": 184,
   "metadata": {},
   "outputs": [],
   "source": [
    "# split train test data to predict one season\n",
    "# take the last 306 - 10*9 datapoints (because first 10 Matches are needed for the form)\n",
    "\n",
    "X_train_s_2022, X_test_s_2022 = X.iloc[:-216], X.iloc[-216:]\n",
    "y_train_s_2022, y_test_s_2022 = y[:-216], y[-216:]\n",
    "match_data_bl_wo_nan_s_2022 = match_data_bl_wo_nan.iloc[-216:]"
   ]
  },
  {
   "cell_type": "code",
   "execution_count": 185,
   "metadata": {},
   "outputs": [
    {
     "name": "stdout",
     "output_type": "stream",
     "text": [
      "Epoch 1/15\n",
      "95/95 [==============================] - 1s 2ms/step - loss: 2.3843 - accuracy: 0.4130\n",
      "Epoch 2/15\n",
      "95/95 [==============================] - 0s 2ms/step - loss: 1.2455 - accuracy: 0.4673\n",
      "Epoch 3/15\n",
      "95/95 [==============================] - 0s 2ms/step - loss: 1.1235 - accuracy: 0.4749\n",
      "Epoch 4/15\n",
      "95/95 [==============================] - 0s 2ms/step - loss: 1.1292 - accuracy: 0.4593\n",
      "Epoch 5/15\n",
      "95/95 [==============================] - 0s 2ms/step - loss: 1.1025 - accuracy: 0.4851\n",
      "Epoch 6/15\n",
      "95/95 [==============================] - 0s 2ms/step - loss: 1.0546 - accuracy: 0.4864\n",
      "Epoch 7/15\n",
      "95/95 [==============================] - 0s 2ms/step - loss: 1.0548 - accuracy: 0.4871\n",
      "Epoch 8/15\n",
      "95/95 [==============================] - 0s 2ms/step - loss: 1.0278 - accuracy: 0.4997\n",
      "Epoch 9/15\n",
      "95/95 [==============================] - 0s 2ms/step - loss: 1.0450 - accuracy: 0.4940\n",
      "Epoch 10/15\n",
      "95/95 [==============================] - 0s 2ms/step - loss: 1.0251 - accuracy: 0.4993\n",
      "Epoch 11/15\n",
      "95/95 [==============================] - 0s 2ms/step - loss: 1.0178 - accuracy: 0.5086\n",
      "Epoch 12/15\n",
      "95/95 [==============================] - 0s 2ms/step - loss: 1.0088 - accuracy: 0.5103\n",
      "Epoch 13/15\n",
      "95/95 [==============================] - 0s 2ms/step - loss: 1.0099 - accuracy: 0.5126\n",
      "Epoch 14/15\n",
      "95/95 [==============================] - 0s 2ms/step - loss: 1.0045 - accuracy: 0.5136\n",
      "Epoch 15/15\n",
      "95/95 [==============================] - 0s 2ms/step - loss: 1.0102 - accuracy: 0.5132\n",
      "Accuracy on training data: 0.5201719403266907% \n",
      " Error on training data: 0.4798280596733093\n",
      "Accuracy on test data: 0.4861111044883728% \n",
      " Error on test data: 0.5138888955116272\n"
     ]
    },
    {
     "data": {
      "image/png": "[encoded data removed]",
      "text/plain": [
       "<Figure size 432x288 with 2 Axes>"
      ]
     },
     "metadata": {},
     "output_type": "display_data"
    }
   ],
   "source": [
    "# train model and get results for one season predictions \n",
    "y_train_s_2022, y_test_s_2022 = one_hot_encode_outputs(y_train_s_2022, y_test_s_2022)\n",
    "trained_model_history_s_2022, model_s_2022 = train_model(X_train_s_2022, y_train_s_2022, number_of_epochs=15)\n",
    "pred_train_s_2022, pred_test_s_2022 = print_accuracy(X_train_s_2022, y_train_s_2022, X_test_s_2022, y_test_s_2022, model_s_2022)\n",
    "y_test_res_s_2022, y_pred_s_2022 = get_predictions(pred_test_s_2022, y_test_s_2022)\n",
    "print_confusion_matrix(y_test_res_s_2022, y_pred_s_2022)"
   ]
  },
  {
   "cell_type": "code",
   "execution_count": 186,
   "metadata": {},
   "outputs": [],
   "source": [
    "# split train test data to predict one season\n",
    "# take the last 306 - 10*9 datapoints (because first 10 Matches are needed for the form)\n",
    "\n",
    "X_train_s_2022_scaled, X_test_s_2022_scaled = X_scaled[:-216], X_scaled[-216:]\n",
    "y_train_s_2022, y_test_s_2022 = y[:-216], y[-216:]\n",
    "match_data_bl_wo_nan_s_2022 = match_data_bl_wo_nan.iloc[-216:]"
   ]
  },
  {
   "cell_type": "code",
   "execution_count": 187,
   "metadata": {},
   "outputs": [],
   "source": [
    "# combine match data for season 22 with predictions for season 2022 for betting strategy\n",
    "match_data_bl_wo_nan_s_2022.loc[:,('predictedResults')] = y_pred_s_2022"
   ]
  },
  {
   "cell_type": "code",
   "execution_count": 188,
   "metadata": {},
   "outputs": [],
   "source": [
    "# save results in dataframe\n",
    "df_season_2022_percentage_res = pd.DataFrame(pred_test_s_2022, columns=('ProbAwayWin', 'ProbDraw', 'ProbHomeWin'), index=match_data_bl_wo_nan_s_2022.index)\n",
    "match_data_bl_wo_nan_s_2022.loc[:, ('ProbAwayWin', 'ProbDraw', 'ProbHomeWin')] = df_season_2022_percentage_res"
   ]
  },
  {
   "cell_type": "markdown",
   "metadata": {},
   "source": [
    "## Hyperparametertuning: Train second NN"
   ]
  },
  {
   "cell_type": "code",
   "execution_count": 189,
   "metadata": {},
   "outputs": [
    {
     "name": "stdout",
     "output_type": "stream",
     "text": [
      "Trial 20 Complete [00h 00m 22s]\n",
      "val_accuracy: 0.5114486068487167\n",
      "\n",
      "Best val_accuracy So Far: 0.5221962630748749\n",
      "Total elapsed time: 00h 07m 08s\n",
      "INFO:tensorflow:Oracle triggered exit\n"
     ]
    }
   ],
   "source": [
    "\n",
    "def build_model(hp):\n",
    "    model = keras.Sequential()\n",
    "    model.add(keras.layers.Flatten())\n",
    "    # model.add(layers.Dense(units=hp.Int('units', min_value=32, max_value=512, step=128), activation=hp.Choice(\"activation\", [\"relu\", \"tanh\"]),\n",
    "    #  input_dim=n_cols_2))\n",
    "    for i in range(hp.Int('layers', 2, 6)):\n",
    "        model.add(keras.layers.Dense(\n",
    "            units=hp.Int('units_' + str(i), 20, 100, step=10),\n",
    "            activation=hp.Choice('act_' + str(i), ['relu', 'sigmoid'])))\n",
    "    model.add(keras.layers.Dense(3, activation='softmax'))\n",
    "    model.compile('adam', 'binary_crossentropy', metrics=['accuracy'])\n",
    "    return model\n",
    "\n",
    "tuner = RandomSearch(\n",
    "    build_model,\n",
    "    objective='val_accuracy',\n",
    "    max_trials=20,\n",
    "    executions_per_trial=4,\n",
    "    directory='models_of_random_search',\n",
    "    project_name='data_exploration'\n",
    ")\n",
    "\n",
    "# tuner.search_space_summary()\n",
    "\n",
    "# will trigger exit if path already exist and summarize informtion of the path\n",
    "tuner.search(X_train, y_train, epochs=20, validation_data=(X_test, y_test))"
   ]
  },
  {
   "cell_type": "code",
   "execution_count": 190,
   "metadata": {},
   "outputs": [
    {
     "name": "stdout",
     "output_type": "stream",
     "text": [
      "Results summary\n",
      "Results in models_of_random_search\\data_exploration\n",
      "Showing 10 best trials\n",
      "<keras_tuner.engine.objective.Objective object at 0x000001D0163BBF40>\n",
      "Trial summary\n",
      "Hyperparameters:\n",
      "layers: 3\n",
      "units_0: 70\n",
      "act_0: sigmoid\n",
      "units_1: 90\n",
      "act_1: sigmoid\n",
      "units_2: 20\n",
      "act_2: sigmoid\n",
      "units_3: 80\n",
      "act_3: relu\n",
      "units_4: 90\n",
      "act_4: relu\n",
      "Score: 0.5221962630748749\n",
      "Trial summary\n",
      "Hyperparameters:\n",
      "layers: 5\n",
      "units_0: 50\n",
      "act_0: sigmoid\n",
      "units_1: 100\n",
      "act_1: sigmoid\n",
      "units_2: 100\n",
      "act_2: sigmoid\n",
      "units_3: 80\n",
      "act_3: sigmoid\n",
      "units_4: 20\n",
      "act_4: relu\n",
      "Score: 0.5210280418395996\n",
      "Trial summary\n",
      "Hyperparameters:\n",
      "layers: 4\n",
      "units_0: 60\n",
      "act_0: sigmoid\n",
      "units_1: 90\n",
      "act_1: relu\n",
      "units_2: 90\n",
      "act_2: relu\n",
      "units_3: 90\n",
      "act_3: sigmoid\n",
      "units_4: 80\n",
      "act_4: relu\n",
      "Score: 0.5207943767309189\n",
      "Trial summary\n",
      "Hyperparameters:\n",
      "layers: 5\n",
      "units_0: 70\n",
      "act_0: sigmoid\n",
      "units_1: 40\n",
      "act_1: sigmoid\n",
      "units_2: 30\n",
      "act_2: sigmoid\n",
      "units_3: 60\n",
      "act_3: relu\n",
      "units_4: 60\n",
      "act_4: sigmoid\n",
      "Score: 0.5198598057031631\n",
      "Trial summary\n",
      "Hyperparameters:\n",
      "layers: 4\n",
      "units_0: 30\n",
      "act_0: sigmoid\n",
      "units_1: 70\n",
      "act_1: relu\n",
      "units_2: 60\n",
      "act_2: relu\n",
      "units_3: 70\n",
      "act_3: sigmoid\n",
      "units_4: 70\n",
      "act_4: relu\n",
      "Score: 0.519626185297966\n",
      "Trial summary\n",
      "Hyperparameters:\n",
      "layers: 3\n",
      "units_0: 40\n",
      "act_0: sigmoid\n",
      "units_1: 70\n",
      "act_1: sigmoid\n",
      "units_2: 40\n",
      "act_2: sigmoid\n",
      "units_3: 90\n",
      "act_3: sigmoid\n",
      "units_4: 50\n",
      "act_4: relu\n",
      "Score: 0.517756998538971\n",
      "Trial summary\n",
      "Hyperparameters:\n",
      "layers: 4\n",
      "units_0: 70\n",
      "act_0: relu\n",
      "units_1: 50\n",
      "act_1: relu\n",
      "units_2: 50\n",
      "act_2: relu\n",
      "units_3: 20\n",
      "act_3: relu\n",
      "units_4: 40\n",
      "act_4: sigmoid\n",
      "Score: 0.516822412610054\n",
      "Trial summary\n",
      "Hyperparameters:\n",
      "layers: 5\n",
      "units_0: 30\n",
      "act_0: relu\n",
      "units_1: 50\n",
      "act_1: sigmoid\n",
      "units_2: 90\n",
      "act_2: sigmoid\n",
      "units_3: 80\n",
      "act_3: relu\n",
      "units_4: 80\n",
      "act_4: sigmoid\n",
      "Score: 0.5158878415822983\n",
      "Trial summary\n",
      "Hyperparameters:\n",
      "layers: 4\n",
      "units_0: 80\n",
      "act_0: relu\n",
      "units_1: 60\n",
      "act_1: sigmoid\n",
      "units_2: 30\n",
      "act_2: relu\n",
      "units_3: 80\n",
      "act_3: sigmoid\n",
      "units_4: 60\n",
      "act_4: sigmoid\n",
      "Score: 0.5156542211771011\n",
      "Trial summary\n",
      "Hyperparameters:\n",
      "layers: 4\n",
      "units_0: 70\n",
      "act_0: relu\n",
      "units_1: 50\n",
      "act_1: relu\n",
      "units_2: 70\n",
      "act_2: sigmoid\n",
      "units_3: 20\n",
      "act_3: relu\n",
      "units_4: 60\n",
      "act_4: relu\n",
      "Score: 0.5154205709695816\n"
     ]
    }
   ],
   "source": [
    "tuner.results_summary()"
   ]
  },
  {
   "cell_type": "code",
   "execution_count": 191,
   "metadata": {},
   "outputs": [
    {
     "name": "stdout",
     "output_type": "stream",
     "text": [
      "Trial 20 Complete [00h 00m 28s]\n",
      "val_accuracy: 0.5193925052881241\n",
      "\n",
      "Best val_accuracy So Far: 0.5205607265233994\n",
      "Total elapsed time: 00h 07m 33s\n",
      "INFO:tensorflow:Oracle triggered exit\n"
     ]
    }
   ],
   "source": [
    "tuner = RandomSearch(\n",
    "    build_model,\n",
    "    objective='val_accuracy',\n",
    "    max_trials=20,\n",
    "    executions_per_trial=4,\n",
    "    directory='models_of_random_search_2',\n",
    "    project_name='data_exploration'\n",
    ")\n",
    "\n",
    "# tuner.search_space_summary()\n",
    "\n",
    "# will trigger exit if path already exist and summarize informtion of the path\n",
    "tuner.search(X_train_scaled, y_train, epochs=20, validation_data=(X_test_scaled, y_test))"
   ]
  },
  {
   "cell_type": "code",
   "execution_count": 192,
   "metadata": {},
   "outputs": [
    {
     "name": "stdout",
     "output_type": "stream",
     "text": [
      "Results summary\n",
      "Results in models_of_random_search_2\\data_exploration\n",
      "Showing 10 best trials\n",
      "<keras_tuner.engine.objective.Objective object at 0x000001D016D53190>\n",
      "Trial summary\n",
      "Hyperparameters:\n",
      "layers: 3\n",
      "units_0: 80\n",
      "act_0: sigmoid\n",
      "units_1: 40\n",
      "act_1: sigmoid\n",
      "units_2: 30\n",
      "act_2: sigmoid\n",
      "units_3: 90\n",
      "act_3: relu\n",
      "units_4: 40\n",
      "act_4: sigmoid\n",
      "units_5: 70\n",
      "act_5: relu\n",
      "Score: 0.5205607265233994\n",
      "Trial summary\n",
      "Hyperparameters:\n",
      "layers: 6\n",
      "units_0: 40\n",
      "act_0: sigmoid\n",
      "units_1: 40\n",
      "act_1: sigmoid\n",
      "units_2: 30\n",
      "act_2: sigmoid\n",
      "units_3: 60\n",
      "act_3: sigmoid\n",
      "units_4: 90\n",
      "act_4: relu\n",
      "units_5: 20\n",
      "act_5: relu\n",
      "Score: 0.520327091217041\n",
      "Trial summary\n",
      "Hyperparameters:\n",
      "layers: 5\n",
      "units_0: 20\n",
      "act_0: sigmoid\n",
      "units_1: 70\n",
      "act_1: sigmoid\n",
      "units_2: 50\n",
      "act_2: relu\n",
      "units_3: 100\n",
      "act_3: sigmoid\n",
      "units_4: 100\n",
      "act_4: sigmoid\n",
      "units_5: 70\n",
      "act_5: sigmoid\n",
      "Score: 0.5193925052881241\n",
      "Trial summary\n",
      "Hyperparameters:\n",
      "layers: 3\n",
      "units_0: 50\n",
      "act_0: relu\n",
      "units_1: 100\n",
      "act_1: sigmoid\n",
      "units_2: 80\n",
      "act_2: sigmoid\n",
      "units_3: 90\n",
      "act_3: relu\n",
      "Score: 0.5189252346754074\n",
      "Trial summary\n",
      "Hyperparameters:\n",
      "layers: 5\n",
      "units_0: 50\n",
      "act_0: relu\n",
      "units_1: 40\n",
      "act_1: relu\n",
      "units_2: 30\n",
      "act_2: relu\n",
      "units_3: 80\n",
      "act_3: relu\n",
      "units_4: 30\n",
      "act_4: sigmoid\n",
      "units_5: 60\n",
      "act_5: relu\n",
      "Score: 0.5184579491615295\n",
      "Trial summary\n",
      "Hyperparameters:\n",
      "layers: 5\n",
      "units_0: 90\n",
      "act_0: sigmoid\n",
      "units_1: 90\n",
      "act_1: sigmoid\n",
      "units_2: 30\n",
      "act_2: relu\n",
      "units_3: 70\n",
      "act_3: relu\n",
      "units_4: 70\n",
      "act_4: relu\n",
      "units_5: 50\n",
      "act_5: sigmoid\n",
      "Score: 0.5182243138551712\n",
      "Trial summary\n",
      "Hyperparameters:\n",
      "layers: 2\n",
      "units_0: 80\n",
      "act_0: sigmoid\n",
      "units_1: 60\n",
      "act_1: sigmoid\n",
      "units_2: 90\n",
      "act_2: sigmoid\n",
      "units_3: 40\n",
      "act_3: relu\n",
      "Score: 0.51822429895401\n",
      "Trial summary\n",
      "Hyperparameters:\n",
      "layers: 4\n",
      "units_0: 80\n",
      "act_0: sigmoid\n",
      "units_1: 60\n",
      "act_1: sigmoid\n",
      "units_2: 60\n",
      "act_2: relu\n",
      "units_3: 80\n",
      "act_3: sigmoid\n",
      "Score: 0.5179906487464905\n",
      "Trial summary\n",
      "Hyperparameters:\n",
      "layers: 5\n",
      "units_0: 60\n",
      "act_0: relu\n",
      "units_1: 80\n",
      "act_1: relu\n",
      "units_2: 30\n",
      "act_2: sigmoid\n",
      "units_3: 80\n",
      "act_3: relu\n",
      "units_4: 50\n",
      "act_4: relu\n",
      "Score: 0.5179906487464905\n",
      "Trial summary\n",
      "Hyperparameters:\n",
      "layers: 4\n",
      "units_0: 30\n",
      "act_0: sigmoid\n",
      "units_1: 80\n",
      "act_1: relu\n",
      "units_2: 70\n",
      "act_2: relu\n",
      "units_3: 20\n",
      "act_3: sigmoid\n",
      "Score: 0.5172897279262543\n"
     ]
    }
   ],
   "source": [
    "tuner.results_summary()"
   ]
  },
  {
   "cell_type": "code",
   "execution_count": 193,
   "metadata": {},
   "outputs": [],
   "source": [
    "# split train test data to predict one season\n",
    "# take the last 306 - 10*9 datapoints (because first 10 Matches are needed for the form)\n",
    "\n",
    "X_train_s_2022, X_test_s_2022 = X.iloc[:-216], X.iloc[-216:]\n",
    "y_train_s_2022, y_test_s_2022 = y[:-216], y[-216:]\n",
    "match_data_bl_wo_nan_s_2022 = match_data_bl_wo_nan.iloc[-216:]\n",
    "y_train_s_2022, y_test_s_2022 = one_hot_encode_outputs(y_train_s_2022, y_test_s_2022)"
   ]
  },
  {
   "cell_type": "code",
   "execution_count": 194,
   "metadata": {},
   "outputs": [],
   "source": [
    "def train_model(X_train, y_train, number_of_epochs: int = 20, validation_data=None):\n",
    "    # create model\n",
    "    model = Sequential()\n",
    "\n",
    "    # get number of columns in training data\n",
    "    n_cols_2 = X_train.shape[1]\n",
    "    print(n_cols_2)\n",
    "    y = to_categorical(y_train)\n",
    "    # add layers to model\n",
    "    model.add(Dense(80, activation='sigmoid', input_dim=n_cols_2))\n",
    "    model.add(Dense(80, activation='relu'))\n",
    "    model.add(Dense(80, activation='relu'))\n",
    "    model.add(Dense(80, activation='relu'))\n",
    "    model.add(Dense(50, activation='relu'))\n",
    "    model.add(Dense(70, activation='sigmoid'))\n",
    "    model.add(Dense(3, activation='softmax'))\n",
    "\n",
    "    # compile model using accuracy to measure model performance\n",
    "    # model.compile(optimizer='adam', loss=['sparse_categorical_crossentropy', 'mse'], metrics=['accuracy'])\n",
    "    model.compile(metrics=['accuracy'], optimizer='adam', \n",
    "                loss='binary_crossentropy')\n",
    "    # K.set_value(model.optimizer.learning_rate, 0.01)\n",
    "\n",
    "    # early_stopping_monitor = EarlyStopping(patience=3)\n",
    "\n",
    "    # es = callbacks.EarlyStopping(monitor='val_loss', \n",
    "    #                                    mode='min',\n",
    "    #                                    patience=10, \n",
    "    #                                    restore_best_weights=True) \n",
    "\n",
    "    if validation_data is None:\n",
    "        history = model.fit(X_train, y_train, epochs=number_of_epochs, validation_split=0.3)\n",
    "    else:\n",
    "        history = model.fit(X_train, y_train, epochs=number_of_epochs, validation_data=validation_data) #, callbacks=[early_stopping_monitor]) #callbacks=[es],\n",
    "    return model, history"
   ]
  },
  {
   "cell_type": "code",
   "execution_count": 195,
   "metadata": {},
   "outputs": [
    {
     "name": "stdout",
     "output_type": "stream",
     "text": [
      "9\n",
      "Epoch 1/20\n",
      "95/95 [==============================] - 1s 5ms/step - loss: 0.6240 - accuracy: 0.4573 - val_loss: 0.6038 - val_accuracy: 0.4954\n",
      "Epoch 2/20\n",
      "95/95 [==============================] - 0s 3ms/step - loss: 0.5960 - accuracy: 0.5096 - val_loss: 0.6044 - val_accuracy: 0.4954\n",
      "Epoch 3/20\n",
      "95/95 [==============================] - 0s 3ms/step - loss: 0.5939 - accuracy: 0.5043 - val_loss: 0.6051 - val_accuracy: 0.4861\n",
      "Epoch 4/20\n",
      "95/95 [==============================] - 0s 3ms/step - loss: 0.5935 - accuracy: 0.5066 - val_loss: 0.6096 - val_accuracy: 0.4630\n",
      "Epoch 5/20\n",
      "95/95 [==============================] - 0s 3ms/step - loss: 0.5898 - accuracy: 0.5159 - val_loss: 0.6047 - val_accuracy: 0.4907\n",
      "Epoch 6/20\n",
      "95/95 [==============================] - 0s 3ms/step - loss: 0.5895 - accuracy: 0.5106 - val_loss: 0.6109 - val_accuracy: 0.4769\n",
      "Epoch 7/20\n",
      "95/95 [==============================] - 0s 3ms/step - loss: 0.5887 - accuracy: 0.5149 - val_loss: 0.6088 - val_accuracy: 0.4722\n",
      "Epoch 8/20\n",
      "95/95 [==============================] - 0s 3ms/step - loss: 0.5880 - accuracy: 0.5136 - val_loss: 0.6169 - val_accuracy: 0.5046\n",
      "Epoch 9/20\n",
      "95/95 [==============================] - 0s 3ms/step - loss: 0.5877 - accuracy: 0.5109 - val_loss: 0.6271 - val_accuracy: 0.4676\n",
      "Epoch 10/20\n",
      "95/95 [==============================] - 0s 3ms/step - loss: 0.5865 - accuracy: 0.5132 - val_loss: 0.6068 - val_accuracy: 0.4954\n",
      "Epoch 11/20\n",
      "95/95 [==============================] - 0s 3ms/step - loss: 0.5867 - accuracy: 0.5136 - val_loss: 0.6078 - val_accuracy: 0.4769\n",
      "Epoch 12/20\n",
      "95/95 [==============================] - 0s 3ms/step - loss: 0.5846 - accuracy: 0.5112 - val_loss: 0.6144 - val_accuracy: 0.4769\n",
      "Epoch 13/20\n",
      "95/95 [==============================] - 0s 3ms/step - loss: 0.5858 - accuracy: 0.5159 - val_loss: 0.6074 - val_accuracy: 0.5046\n",
      "Epoch 14/20\n",
      "95/95 [==============================] - 0s 3ms/step - loss: 0.5848 - accuracy: 0.5096 - val_loss: 0.6004 - val_accuracy: 0.5139\n",
      "Epoch 15/20\n",
      "95/95 [==============================] - 0s 2ms/step - loss: 0.5868 - accuracy: 0.5119 - val_loss: 0.6071 - val_accuracy: 0.5046\n",
      "Epoch 16/20\n",
      "95/95 [==============================] - 0s 2ms/step - loss: 0.5830 - accuracy: 0.5139 - val_loss: 0.6153 - val_accuracy: 0.5139\n",
      "Epoch 17/20\n",
      "95/95 [==============================] - 0s 3ms/step - loss: 0.5830 - accuracy: 0.5149 - val_loss: 0.6028 - val_accuracy: 0.4861\n",
      "Epoch 18/20\n",
      "95/95 [==============================] - 0s 3ms/step - loss: 0.5821 - accuracy: 0.5152 - val_loss: 0.6008 - val_accuracy: 0.4907\n",
      "Epoch 19/20\n",
      "95/95 [==============================] - 0s 3ms/step - loss: 0.5823 - accuracy: 0.5185 - val_loss: 0.6101 - val_accuracy: 0.4954\n",
      "Epoch 20/20\n",
      "95/95 [==============================] - 0s 2ms/step - loss: 0.5816 - accuracy: 0.5225 - val_loss: 0.6027 - val_accuracy: 0.5000\n"
     ]
    }
   ],
   "source": [
    "model_season_2022, history_season_2022 = train_model(X_train_s_2022, y_train_s_2022, number_of_epochs=20, validation_data=(X_test_s_2022, y_test_s_2022))"
   ]
  },
  {
   "cell_type": "code",
   "execution_count": 196,
   "metadata": {},
   "outputs": [
    {
     "name": "stdout",
     "output_type": "stream",
     "text": [
      "9\n",
      "Epoch 1/20\n",
      "71/71 [==============================] - 1s 5ms/step - loss: 0.6089 - accuracy: 0.4687 - val_loss: 0.6001 - val_accuracy: 0.5185\n",
      "Epoch 2/20\n",
      "71/71 [==============================] - 0s 3ms/step - loss: 0.5983 - accuracy: 0.4969 - val_loss: 0.6012 - val_accuracy: 0.5093\n",
      "Epoch 3/20\n",
      "71/71 [==============================] - 0s 3ms/step - loss: 0.5950 - accuracy: 0.5057 - val_loss: 0.6024 - val_accuracy: 0.4907\n",
      "Epoch 4/20\n",
      "71/71 [==============================] - 0s 2ms/step - loss: 0.5950 - accuracy: 0.5031 - val_loss: 0.6002 - val_accuracy: 0.5000\n",
      "Epoch 5/20\n",
      "71/71 [==============================] - 0s 2ms/step - loss: 0.5938 - accuracy: 0.4956 - val_loss: 0.5993 - val_accuracy: 0.5062\n",
      "Epoch 6/20\n",
      "71/71 [==============================] - 0s 2ms/step - loss: 0.5925 - accuracy: 0.5004 - val_loss: 0.5985 - val_accuracy: 0.5175\n",
      "Epoch 7/20\n",
      "71/71 [==============================] - 0s 2ms/step - loss: 0.5927 - accuracy: 0.5049 - val_loss: 0.6000 - val_accuracy: 0.5165\n",
      "Epoch 8/20\n",
      "71/71 [==============================] - 0s 2ms/step - loss: 0.5921 - accuracy: 0.5040 - val_loss: 0.5950 - val_accuracy: 0.5288\n",
      "Epoch 9/20\n",
      "71/71 [==============================] - 0s 2ms/step - loss: 0.5891 - accuracy: 0.5097 - val_loss: 0.6021 - val_accuracy: 0.5226\n",
      "Epoch 10/20\n",
      "71/71 [==============================] - 0s 2ms/step - loss: 0.5887 - accuracy: 0.5101 - val_loss: 0.6089 - val_accuracy: 0.5082\n",
      "Epoch 11/20\n",
      "71/71 [==============================] - 0s 2ms/step - loss: 0.5897 - accuracy: 0.5088 - val_loss: 0.5956 - val_accuracy: 0.5082\n",
      "Epoch 12/20\n",
      "71/71 [==============================] - 0s 2ms/step - loss: 0.5873 - accuracy: 0.5132 - val_loss: 0.6011 - val_accuracy: 0.5206\n",
      "Epoch 13/20\n",
      "71/71 [==============================] - 0s 2ms/step - loss: 0.5870 - accuracy: 0.5128 - val_loss: 0.5993 - val_accuracy: 0.4969\n",
      "Epoch 14/20\n",
      "71/71 [==============================] - 0s 3ms/step - loss: 0.5840 - accuracy: 0.5110 - val_loss: 0.5997 - val_accuracy: 0.5072\n",
      "Epoch 15/20\n",
      "71/71 [==============================] - 0s 3ms/step - loss: 0.5864 - accuracy: 0.5053 - val_loss: 0.5958 - val_accuracy: 0.5237\n",
      "Epoch 16/20\n",
      "71/71 [==============================] - 0s 2ms/step - loss: 0.5866 - accuracy: 0.5062 - val_loss: 0.5939 - val_accuracy: 0.5072\n",
      "Epoch 17/20\n",
      "71/71 [==============================] - 0s 3ms/step - loss: 0.5834 - accuracy: 0.5141 - val_loss: 0.5988 - val_accuracy: 0.5134\n",
      "Epoch 18/20\n",
      "71/71 [==============================] - 0s 3ms/step - loss: 0.5840 - accuracy: 0.5119 - val_loss: 0.5980 - val_accuracy: 0.5154\n",
      "Epoch 19/20\n",
      "71/71 [==============================] - 0s 4ms/step - loss: 0.5835 - accuracy: 0.5154 - val_loss: 0.5963 - val_accuracy: 0.5113\n",
      "Epoch 20/20\n",
      "71/71 [==============================] - 0s 3ms/step - loss: 0.5820 - accuracy: 0.5084 - val_loss: 0.5930 - val_accuracy: 0.5021\n"
     ]
    }
   ],
   "source": [
    "model_random, history_season_random = train_model(X, to_categorical(y), number_of_epochs=20)"
   ]
  },
  {
   "cell_type": "code",
   "execution_count": 197,
   "metadata": {},
   "outputs": [],
   "source": [
    "# history = history_season_random\n",
    "history = history_season_2022\n",
    "# model = model_random\n",
    "model = model_season_2022"
   ]
  },
  {
   "cell_type": "code",
   "execution_count": 198,
   "metadata": {},
   "outputs": [
    {
     "data": {
      "image/png": "[encoded data removed]",
      "text/plain": [
       "<Figure size 432x288 with 1 Axes>"
      ]
     },
     "metadata": {},
     "output_type": "display_data"
    },
    {
     "data": {
      "image/png": "[encoded data removed]",
      "text/plain": [
       "<Figure size 432x288 with 1 Axes>"
      ]
     },
     "metadata": {},
     "output_type": "display_data"
    }
   ],
   "source": [
    "# summarize history for accuracy\n",
    "\n",
    "plt.plot(history.history['accuracy'])\n",
    "plt.plot(history.history['val_accuracy'])\n",
    "plt.title('model accuracy')\n",
    "plt.ylabel('accuracy')\n",
    "plt.xlabel('epoch')\n",
    "plt.legend(['train', 'test'], loc='upper left')\n",
    "plt.show()\n",
    "\n",
    "# summarize history for loss\n",
    "\n",
    "plt.plot(history.history['loss'])\n",
    "plt.plot(history.history['val_loss'])\n",
    "plt.title('model loss')\n",
    "plt.ylabel('loss')\n",
    "plt.xlabel('epoch')\n",
    "plt.legend(['train', 'test'], loc='upper left')\n",
    "plt.show()"
   ]
  },
  {
   "cell_type": "code",
   "execution_count": 199,
   "metadata": {},
   "outputs": [],
   "source": [
    "# predict last season and store result in a file\n",
    "\n",
    "data = model.predict(X_test_s_2022)\n",
    "predicted_data_random_results, test_result = get_predictions(data, data)\n",
    "predicted_data_random = pd.DataFrame(data, columns=('ProbAwayWin', 'ProbDraw', 'ProbHomeWin'), index=match_data_bl_wo_nan_s_2022.index)\n",
    "match_data_bl_wo_nan_s_2022.loc[:, ('ProbAwayWin', 'ProbDraw', 'ProbHomeWin')] = predicted_data_random\n",
    "match_data_bl_wo_nan_s_2022.loc[:, ('predictedResults')] = predicted_data_random_results\n",
    "match_data_bl_wo_nan_s_2022.to_csv(\"Data\\\\match_data_bl_test_notebook_2022.csv\")"
   ]
  }
 ],
 "metadata": {
  "kernelspec": {
   "display_name": "Python 3.9.6 64-bit",
   "language": "python",
   "name": "python3"
  },
  "language_info": {
   "codemirror_mode": {
    "name": "ipython",
    "version": 3
   },
   "file_extension": ".py",
   "mimetype": "text/x-python",
   "name": "python",
   "nbconvert_exporter": "python",
   "pygments_lexer": "ipython3",
   "version": "3.9.6"
  },
  "orig_nbformat": 4,
  "vscode": {
   "interpreter": {
    "hash": "a37b5d1be0b5a8c6e06172c5029a6563e518f7e99be8ff7da2a9b3d127760acf"
   }
  }
 },
 "nbformat": 4,
 "nbformat_minor": 2
}
